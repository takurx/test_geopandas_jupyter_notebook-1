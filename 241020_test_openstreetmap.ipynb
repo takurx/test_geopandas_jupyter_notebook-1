{
 "cells": [
  {
   "cell_type": "code",
   "execution_count": null,
   "id": "eb8ab3ee-aa3d-4e68-b04e-26409073b3d1",
   "metadata": {},
   "outputs": [],
   "source": [
    "\"\"\"\n",
    "地図のWikipedia！OpenStreetMapのデータをPythonで簡単にダウンロードできるPyrosmとleafmapを使ってみよう！ #QiitaEngineerFesta2022 - Qiita\n",
    "https://qiita.com/nokonoko_1203/items/823abd6920553ee5f457\n",
    "\"\"\""
   ]
  },
  {
   "cell_type": "code",
   "execution_count": 1,
   "id": "915305b4-9ca7-4388-81b0-3ec55de99928",
   "metadata": {},
   "outputs": [
    {
     "data": {
      "text/plain": [
       "dict_keys(['africa', 'antarctica', 'asia', 'australia_oceania', 'central_america', 'europe', 'north_america', 'south_america', 'cities', 'subregions'])"
      ]
     },
     "execution_count": 1,
     "metadata": {},
     "output_type": "execute_result"
    }
   ],
   "source": [
    "from pyrosm.data import sources\n",
    "\n",
    "sources.available.keys()\n",
    "\n",
    "# dict_keys(['africa', 'antarctica', 'asia', 'australia_oceania', 'central_america', 'europe', 'north_america', 'south_america', 'cities', 'subregions'])\n"
   ]
  },
  {
   "cell_type": "code",
   "execution_count": null,
   "id": "1ad02476-134b-4d4d-96a8-aecf39caeb6d",
   "metadata": {},
   "outputs": [],
   "source": [
    "\"\"\"\n",
    "(base) chino@chino-Legion-5-15IAH7H:~$ pip install pyrosm\n",
    "Collecting pyrosm\n",
    "  Downloading pyrosm-0.6.2.tar.gz (2.5 MB)\n",
    "     ━━━━━━━━━━━━━━━━━━━━━━━━━━━━━━━━━━━━━━━━ 2.5/2.5 MB 2.1 MB/s eta 0:00:00\n",
    "  Installing build dependencies ... done\n",
    "  Getting requirements to build wheel ... done\n",
    "  Preparing metadata (pyproject.toml) ... done\n",
    "Collecting python-rapidjson (from pyrosm)\n",
    "  Downloading python_rapidjson-1.20-cp312-cp312-manylinux_2_17_x86_64.manylinux2014_x86_64.whl.metadata (22 kB)\n",
    "Requirement already satisfied: setuptools>=18.0 in ./anaconda3/lib/python3.12/site-packages (from pyrosm) (75.1.0)\n",
    "Requirement already satisfied: geopandas>=0.12.0 in ./anaconda3/lib/python3.12/site-packages (from pyrosm) (0.14.2)\n",
    "Requirement already satisfied: shapely>=2.0.1 in ./anaconda3/lib/python3.12/site-packages (from pyrosm) (2.0.5)\n",
    "Collecting cykhash (from pyrosm)\n",
    "  Downloading cykhash-2.0.1.tar.gz (44 kB)\n",
    "  Installing build dependencies ... done\n",
    "  Getting requirements to build wheel ... done\n",
    "  Preparing metadata (pyproject.toml) ... done\n",
    "Collecting pyrobuf (from pyrosm)\n",
    "  Using cached pyrobuf-0.9.3-cp312-cp312-linux_x86_64.whl\n",
    "Requirement already satisfied: fiona>=1.8.21 in ./anaconda3/lib/python3.12/site-packages (from geopandas>=0.12.0->pyrosm) (1.9.5)\n",
    "Requirement already satisfied: packaging in ./anaconda3/lib/python3.12/site-packages (from geopandas>=0.12.0->pyrosm) (24.1)\n",
    "Requirement already satisfied: pandas>=1.4.0 in ./anaconda3/lib/python3.12/site-packages (from geopandas>=0.12.0->pyrosm) (2.2.2)\n",
    "Requirement already satisfied: pyproj>=3.3.0 in ./anaconda3/lib/python3.12/site-packages (from geopandas>=0.12.0->pyrosm) (3.6.1)\n",
    "Requirement already satisfied: numpy<3,>=1.14 in ./anaconda3/lib/python3.12/site-packages (from shapely>=2.0.1->pyrosm) (1.26.4)\n",
    "Requirement already satisfied: jinja2>=2.8 in ./anaconda3/lib/python3.12/site-packages (from pyrobuf->pyrosm) (3.1.4)\n",
    "Collecting cython>=0.23 (from pyrobuf->pyrosm)\n",
    "  Using cached Cython-3.0.11-cp312-cp312-manylinux_2_17_x86_64.manylinux2014_x86_64.whl.metadata (3.2 kB)\n",
    "Requirement already satisfied: attrs>=19.2.0 in ./anaconda3/lib/python3.12/site-packages (from fiona>=1.8.21->geopandas>=0.12.0->pyrosm) (24.2.0)\n",
    "Requirement already satisfied: certifi in ./anaconda3/lib/python3.12/site-packages (from fiona>=1.8.21->geopandas>=0.12.0->pyrosm) (2024.8.30)\n",
    "Requirement already satisfied: click~=8.0 in ./anaconda3/lib/python3.12/site-packages (from fiona>=1.8.21->geopandas>=0.12.0->pyrosm) (8.1.7)\n",
    "Requirement already satisfied: click-plugins>=1.0 in ./anaconda3/lib/python3.12/site-packages (from fiona>=1.8.21->geopandas>=0.12.0->pyrosm) (1.1.1)\n",
    "Requirement already satisfied: cligj>=0.5 in ./anaconda3/lib/python3.12/site-packages (from fiona>=1.8.21->geopandas>=0.12.0->pyrosm) (0.7.2)\n",
    "Requirement already satisfied: six in ./anaconda3/lib/python3.12/site-packages (from fiona>=1.8.21->geopandas>=0.12.0->pyrosm) (1.16.0)\n",
    "Requirement already satisfied: MarkupSafe>=2.0 in ./anaconda3/lib/python3.12/site-packages (from jinja2>=2.8->pyrobuf->pyrosm) (2.1.3)\n",
    "Requirement already satisfied: python-dateutil>=2.8.2 in ./anaconda3/lib/python3.12/site-packages (from pandas>=1.4.0->geopandas>=0.12.0->pyrosm) (2.9.0.post0)\n",
    "Requirement already satisfied: pytz>=2020.1 in ./anaconda3/lib/python3.12/site-packages (from pandas>=1.4.0->geopandas>=0.12.0->pyrosm) (2024.1)\n",
    "Requirement already satisfied: tzdata>=2022.7 in ./anaconda3/lib/python3.12/site-packages (from pandas>=1.4.0->geopandas>=0.12.0->pyrosm) (2023.3)\n",
    "Downloading python_rapidjson-1.20-cp312-cp312-manylinux_2_17_x86_64.manylinux2014_x86_64.whl (1.7 MB)\n",
    "   ━━━━━━━━━━━━━━━━━━━━━━━━━━━━━━━━━━━━━━━━ 1.7/1.7 MB 5.4 MB/s eta 0:00:00\n",
    "Using cached Cython-3.0.11-cp312-cp312-manylinux_2_17_x86_64.manylinux2014_x86_64.whl (3.5 MB)\n",
    "Building wheels for collected packages: pyrosm, cykhash\n",
    "  Building wheel for pyrosm (pyproject.toml) ... done\n",
    "  Created wheel for pyrosm: filename=pyrosm-0.6.2-cp312-cp312-linux_x86_64.whl size=2866447 sha256=247a2bbb645f6ba22dab4e4e48628f788764205dd5412207451f23aeb7c9fcf7\n",
    "  Stored in directory: /home/chino/.cache/pip/wheels/33/aa/81/7751cbc2166a4d8dfd6da1cd0c44979037568083df9b065bc8\n",
    "  Building wheel for cykhash (pyproject.toml) ... done\n",
    "  Created wheel for cykhash: filename=cykhash-2.0.1-cp312-cp312-linux_x86_64.whl size=787135 sha256=186f39e6e5de2e07954ea5c0d52d12ca047d53e0ee87e0310b2dc9c7fcca3ede\n",
    "  Stored in directory: /home/chino/.cache/pip/wheels/a2/77/1d/31be3fa0ba1ca7157eea3f73a568ebadc822ee599312b1afac\n",
    "Successfully built pyrosm cykhash\n",
    "Installing collected packages: cykhash, python-rapidjson, cython, pyrobuf, pyrosm\n",
    "Successfully installed cykhash-2.0.1 cython-3.0.11 pyrobuf-0.9.3 pyrosm-0.6.2 python-rapidjson-1.20\n",
    "\"\"\""
   ]
  },
  {
   "cell_type": "code",
   "execution_count": 3,
   "id": "758907ee-a18a-4a3b-b033-75fdaa686d16",
   "metadata": {},
   "outputs": [
    {
     "data": {
      "text/plain": [
       "['afghanistan',\n",
       " 'armenia',\n",
       " 'azerbaijan',\n",
       " 'bangladesh',\n",
       " 'bhutan',\n",
       " 'cambodia',\n",
       " 'china',\n",
       " 'east-timor',\n",
       " 'gcc_states',\n",
       " 'india',\n",
       " 'indonesia',\n",
       " 'iran',\n",
       " 'iraq',\n",
       " 'israel_and_palestine',\n",
       " 'japan',\n",
       " 'jordan',\n",
       " 'kazakhstan',\n",
       " 'kyrgyzstan',\n",
       " 'laos',\n",
       " 'lebanon',\n",
       " 'malaysia_singapore_brunei',\n",
       " 'maldives',\n",
       " 'mongolia',\n",
       " 'myanmar',\n",
       " 'nepal',\n",
       " 'north_korea',\n",
       " 'pakistan',\n",
       " 'philippines',\n",
       " 'south_korea',\n",
       " 'sri_lanka',\n",
       " 'syria',\n",
       " 'taiwan',\n",
       " 'tajikistan',\n",
       " 'thailand',\n",
       " 'turkmenistan',\n",
       " 'uzbekistan',\n",
       " 'vietnam',\n",
       " 'yemen']"
      ]
     },
     "execution_count": 3,
     "metadata": {},
     "output_type": "execute_result"
    }
   ],
   "source": [
    "sources.asia.available"
   ]
  },
  {
   "cell_type": "code",
   "execution_count": 4,
   "id": "f449645c-ff06-4cbd-9eb5-c5cbe6c9734f",
   "metadata": {},
   "outputs": [
    {
     "data": {
      "text/plain": [
       "['chubu',\n",
       " 'chugoku',\n",
       " 'hokkaido',\n",
       " 'kansai',\n",
       " 'kanto',\n",
       " 'kyushu',\n",
       " 'shikoku',\n",
       " 'tohoku']"
      ]
     },
     "execution_count": 4,
     "metadata": {},
     "output_type": "execute_result"
    }
   ],
   "source": [
    "sources.asia.japan.available"
   ]
  },
  {
   "cell_type": "code",
   "execution_count": 5,
   "id": "6abd64e6-866e-4025-a2e7-7ea6987eee0e",
   "metadata": {},
   "outputs": [
    {
     "data": {
      "text/plain": [
       "{'name': 'kanto-latest.osm.pbf',\n",
       " 'url': 'http://download.geofabrik.de/asia/japan/kanto-latest.osm.pbf'}"
      ]
     },
     "execution_count": 5,
     "metadata": {},
     "output_type": "execute_result"
    }
   ],
   "source": [
    "sources.asia.japan.kanto"
   ]
  },
  {
   "cell_type": "code",
   "execution_count": null,
   "id": "14a8683e-0331-4b1d-86f0-b52b8f3be17f",
   "metadata": {},
   "outputs": [],
   "source": [
    "from pyrosm import OSM, get_data\n",
    "\n",
    "file_path = get_data(\"kanto\", directory=\"./\")\n",
    "\n",
    "file_path = get_data(\"kanto\", update=True)"
   ]
  },
  {
   "cell_type": "code",
   "execution_count": null,
   "id": "a4c17537-9394-47ec-a7cd-96f6f8e1a302",
   "metadata": {},
   "outputs": [],
   "source": [
    "file_path"
   ]
  },
  {
   "cell_type": "code",
   "execution_count": null,
   "id": "fcf4b184-ce23-4b72-8b36-210203e021fd",
   "metadata": {},
   "outputs": [],
   "source": [
    "osm = OSM(\"kanto-latest.osm.pbf\")"
   ]
  },
  {
   "cell_type": "code",
   "execution_count": null,
   "id": "624264e6-6a78-4e8b-9140-d36465974421",
   "metadata": {},
   "outputs": [],
   "source": [
    "import download\n",
    "\n",
    "download.download(\n",
    "    \"https://www.e-stat.go.jp/gis/statmap-search/data?dlserveyId=A002005212020&code=13&coordSys=1&format=shape&downloadType=5&datum=2000\",\n",
    "    \"tokyo\",\n",
    "    kind=\"zip\",\n",
    "    replace=True,\n",
    ")"
   ]
  },
  {
   "cell_type": "code",
   "execution_count": null,
   "id": "164ba59e-2a7b-432e-8ebe-8d5bf2113bed",
   "metadata": {},
   "outputs": [],
   "source": [
    "import geopandas\n",
    "\n",
    "shp_path = \"./tokyo/r2ka13.shp\"\n",
    "gdf = geopandas.read_file(shp_path)\n",
    "\n",
    "ebisu_1 = gdf[gdf[\"S_NAME\"] == \"恵比寿一丁目\"]\n",
    "ebisu_1\n",
    "\n",
    "# \tKEY_CODE\tPREF\tCITY\tS_AREA\tPREF_NAME\tCITY_NAME\tS_NAME\tKIGO_E\tHCODE\tAREA\t...\tN_KEN\tN_CITY\tKIGO_I\tKBSUM\tJINKO\tSETAI\tX_CODE\tY_CODE\tKCODE1\tgeometry\n",
    "# 1686\t13113001001\t13\t113\t001001\t東京都\t渋谷区\t恵比寿一丁目\tNone\t8101\t152575.858\t...\tNone\tNone\tNone\t65\t4497\t3043\t139.713784\t35.647161\t0010-01\tPOLYGON ((139.71457 35.64793, 139.71495 35.647...\n",
    "# 1 rows × 30 columns"
   ]
  },
  {
   "cell_type": "code",
   "execution_count": null,
   "id": "6611faee-9c6d-44ba-ac50-9d26c6b2effb",
   "metadata": {},
   "outputs": [],
   "source": [
    "%%time\n",
    "import leafmap\n",
    "\n",
    "map = leafmap.Map(zoom=17)\n",
    "\n",
    "# 表示スタイルを定義\n",
    "style = {\n",
    "    \"stroke\": True,\n",
    "    \"color\": \"#0000ff\",\n",
    "    \"weight\": 2,\n",
    "    \"opacity\": 1,\n",
    "    \"fill\": True,\n",
    "    \"fillColor\": \"#0000ff\",\n",
    "    \"fillOpacity\": 0.1,\n",
    "}\n",
    "hover_style = {\"fillOpacity\": 0.7}\n",
    "\n",
    "# 恵比寿一丁目のポリゴンを表示してみる\n",
    "map.add_gdf(ebisu_1, style=style, hover_style=hover_style)\n",
    "map"
   ]
  },
  {
   "cell_type": "code",
   "execution_count": null,
   "id": "6c855462-dfa4-4d11-86fc-92980dfe15e5",
   "metadata": {},
   "outputs": [],
   "source": []
  }
 ],
 "metadata": {
  "kernelspec": {
   "display_name": "Python 3 (ipykernel)",
   "language": "python",
   "name": "python3"
  },
  "language_info": {
   "codemirror_mode": {
    "name": "ipython",
    "version": 3
   },
   "file_extension": ".py",
   "mimetype": "text/x-python",
   "name": "python",
   "nbconvert_exporter": "python",
   "pygments_lexer": "ipython3",
   "version": "3.12.4"
  }
 },
 "nbformat": 4,
 "nbformat_minor": 5
}
