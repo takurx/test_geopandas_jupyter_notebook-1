{
 "cells": [
  {
   "cell_type": "code",
   "execution_count": 24,
   "id": "b4edef3f-18ca-4b62-b5cd-14a9a3fae065",
   "metadata": {},
   "outputs": [],
   "source": [
    "import os\n",
    "import leafmap.leafmap as leafmap"
   ]
  },
  {
   "cell_type": "code",
   "execution_count": 25,
   "id": "a0ca829c-ce57-4643-9121-42ed932fdc55",
   "metadata": {},
   "outputs": [],
   "source": [
    "in_csv = \"./test_simple_search-2_convert-1.csv\""
   ]
  },
  {
   "cell_type": "code",
   "execution_count": 26,
   "id": "93948320-5918-40c9-bac4-5b9a7c891bf0",
   "metadata": {},
   "outputs": [],
   "source": [
    "df = leafmap.csv_to_df(in_csv)"
   ]
  },
  {
   "cell_type": "code",
   "execution_count": 27,
   "id": "f8db7e65-ee9c-4a0c-85bb-2e15f03c3394",
   "metadata": {},
   "outputs": [
    {
     "data": {
      "text/html": [
       "<div>\n",
       "<style scoped>\n",
       "    .dataframe tbody tr th:only-of-type {\n",
       "        vertical-align: middle;\n",
       "    }\n",
       "\n",
       "    .dataframe tbody tr th {\n",
       "        vertical-align: top;\n",
       "    }\n",
       "\n",
       "    .dataframe thead th {\n",
       "        text-align: right;\n",
       "    }\n",
       "</style>\n",
       "<table border=\"1\" class=\"dataframe\">\n",
       "  <thead>\n",
       "    <tr style=\"text-align: right;\">\n",
       "      <th></th>\n",
       "      <th>id</th>\n",
       "      <th>name</th>\n",
       "      <th>latitude</th>\n",
       "      <th>longitude</th>\n",
       "    </tr>\n",
       "  </thead>\n",
       "  <tbody>\n",
       "    <tr>\n",
       "      <th>0</th>\n",
       "      <td>0</td>\n",
       "      <td>つくば2</td>\n",
       "      <td>36.057380</td>\n",
       "      <td>140.088350</td>\n",
       "    </tr>\n",
       "    <tr>\n",
       "      <th>1</th>\n",
       "      <td>1</td>\n",
       "      <td>つくばウェルネスパーク</td>\n",
       "      <td>36.161620</td>\n",
       "      <td>140.071082</td>\n",
       "    </tr>\n",
       "    <tr>\n",
       "      <th>2</th>\n",
       "      <td>2</td>\n",
       "      <td>つくばカピオ</td>\n",
       "      <td>36.079049</td>\n",
       "      <td>140.115881</td>\n",
       "    </tr>\n",
       "    <tr>\n",
       "      <th>3</th>\n",
       "      <td>3</td>\n",
       "      <td>つくばウェルネスパーク</td>\n",
       "      <td>36.160575</td>\n",
       "      <td>140.071080</td>\n",
       "    </tr>\n",
       "    <tr>\n",
       "      <th>4</th>\n",
       "      <td>4</td>\n",
       "      <td>つくばウェルネスパーク</td>\n",
       "      <td>36.161621</td>\n",
       "      <td>140.071074</td>\n",
       "    </tr>\n",
       "  </tbody>\n",
       "</table>\n",
       "</div>"
      ],
      "text/plain": [
       "   id         name   latitude   longitude\n",
       "0   0         つくば2  36.057380  140.088350\n",
       "1   1  つくばウェルネスパーク  36.161620  140.071082\n",
       "2   2       つくばカピオ  36.079049  140.115881\n",
       "3   3  つくばウェルネスパーク  36.160575  140.071080\n",
       "4   4  つくばウェルネスパーク  36.161621  140.071074"
      ]
     },
     "execution_count": 27,
     "metadata": {},
     "output_type": "execute_result"
    }
   ],
   "source": [
    "df"
   ]
  },
  {
   "cell_type": "code",
   "execution_count": 28,
   "id": "fe1565d9-9f30-45ce-86c1-5883c54cfb1f",
   "metadata": {},
   "outputs": [],
   "source": [
    "Map = leafmap.Map()"
   ]
  },
  {
   "cell_type": "code",
   "execution_count": 29,
   "id": "b20ba172-4589-42a8-936f-ae886252205f",
   "metadata": {
    "scrolled": true
   },
   "outputs": [],
   "source": [
    "Map.add_xy_data(in_csv, x=\"longitude\", y=\"latitude\", layer_name=\"tsukuba\")"
   ]
  },
  {
   "cell_type": "code",
   "execution_count": 30,
   "id": "b50d6efa-ea09-46d0-acc8-b28c623e3183",
   "metadata": {
    "scrolled": true
   },
   "outputs": [
    {
     "data": {
      "application/vnd.jupyter.widget-view+json": {
       "model_id": "d941348585ee4675b4f57907356a4b0d",
       "version_major": 2,
       "version_minor": 0
      },
      "text/plain": [
       "Map(center=[20, 0], controls=(ZoomControl(options=['position', 'zoom_in_text', 'zoom_in_title', 'zoom_out_text…"
      ]
     },
     "execution_count": 30,
     "metadata": {},
     "output_type": "execute_result"
    }
   ],
   "source": [
    "Map"
   ]
  },
  {
   "cell_type": "code",
   "execution_count": 31,
   "id": "16d9f835-79cf-41d3-8239-12d87e386023",
   "metadata": {},
   "outputs": [],
   "source": [
    "out_dir = os.path.expanduser(\"./\")\n",
    "if not os.path.exists(out_dir):\n",
    "    os.makedirs(out_dir)\n",
    "out_shp = os.path.join(out_dir, \"tsukuba.shp\")"
   ]
  },
  {
   "cell_type": "code",
   "execution_count": 32,
   "id": "96bda8a0-8b36-454c-a4d8-a4b7131327b3",
   "metadata": {},
   "outputs": [],
   "source": [
    "leafmap.csv_to_shp(in_csv, out_shp)"
   ]
  },
  {
   "cell_type": "code",
   "execution_count": 33,
   "id": "036096dc-538a-45b2-9b3c-d9e6d0047112",
   "metadata": {},
   "outputs": [],
   "source": [
    "out_geojson = os.path.join(out_dir, \"tsukuba.geojson\")\n",
    "leafmap.csv_to_geojson(in_csv, out_geojson)"
   ]
  },
  {
   "cell_type": "code",
   "execution_count": 34,
   "id": "416ebf4f-ee26-42f9-b077-50fae9ceb5e7",
   "metadata": {},
   "outputs": [],
   "source": [
    "in_csv2 = \"./tsukuba_kyon-2.csv\""
   ]
  },
  {
   "cell_type": "code",
   "execution_count": 35,
   "id": "e7dd3d10-7cf5-410e-a55a-9e5bded2af04",
   "metadata": {},
   "outputs": [],
   "source": [
    "df2 = leafmap.csv_to_df(in_csv2)"
   ]
  },
  {
   "cell_type": "code",
   "execution_count": 36,
   "id": "abbd626e-196d-4f0c-9a6c-9df594167b69",
   "metadata": {},
   "outputs": [
    {
     "data": {
      "text/html": [
       "<div>\n",
       "<style scoped>\n",
       "    .dataframe tbody tr th:only-of-type {\n",
       "        vertical-align: middle;\n",
       "    }\n",
       "\n",
       "    .dataframe tbody tr th {\n",
       "        vertical-align: top;\n",
       "    }\n",
       "\n",
       "    .dataframe thead th {\n",
       "        text-align: right;\n",
       "    }\n",
       "</style>\n",
       "<table border=\"1\" class=\"dataframe\">\n",
       "  <thead>\n",
       "    <tr style=\"text-align: right;\">\n",
       "      <th></th>\n",
       "      <th>WKT</th>\n",
       "      <th>longitude</th>\n",
       "      <th>latitude</th>\n",
       "      <th>名前</th>\n",
       "      <th>説明</th>\n",
       "    </tr>\n",
       "  </thead>\n",
       "  <tbody>\n",
       "    <tr>\n",
       "      <th>0</th>\n",
       "      <td>POINT (140.118946 36.1044419)</td>\n",
       "      <td>140.118946</td>\n",
       "      <td>36.104442</td>\n",
       "      <td>柴崎</td>\n",
       "      <td>令和6年(2024年)5月9日 \\tつくば市柴崎地内</td>\n",
       "    </tr>\n",
       "    <tr>\n",
       "      <th>1</th>\n",
       "      <td>POINT (140.0707048 36.0105083)</td>\n",
       "      <td>140.070705</td>\n",
       "      <td>36.010508</td>\n",
       "      <td>みどりの東</td>\n",
       "      <td>令和6年(2024年)5月9日 \\tつくば市みどりの東地内</td>\n",
       "    </tr>\n",
       "    <tr>\n",
       "      <th>2</th>\n",
       "      <td>POINT (140.1233394 36.0990598)</td>\n",
       "      <td>140.123339</td>\n",
       "      <td>36.099060</td>\n",
       "      <td>流星台</td>\n",
       "      <td>令和6年(2024年)5月19日 \\tつくば市流星台地内</td>\n",
       "    </tr>\n",
       "    <tr>\n",
       "      <th>3</th>\n",
       "      <td>POINT (140.0726882 36.150161)</td>\n",
       "      <td>140.072688</td>\n",
       "      <td>36.150161</td>\n",
       "      <td>大穂</td>\n",
       "      <td>令和6年(2024年)6月3日 \\tつくば市大穂地内</td>\n",
       "    </tr>\n",
       "    <tr>\n",
       "      <th>4</th>\n",
       "      <td>POINT (140.0136323 36.1471948)</td>\n",
       "      <td>140.013632</td>\n",
       "      <td>36.147195</td>\n",
       "      <td>吉沼</td>\n",
       "      <td>令和6年(2024年)6月4日 \\tつくば市吉沼地内</td>\n",
       "    </tr>\n",
       "    <tr>\n",
       "      <th>5</th>\n",
       "      <td>POINT (140.1086634 36.1828128)</td>\n",
       "      <td>140.108663</td>\n",
       "      <td>36.182813</td>\n",
       "      <td>平沢</td>\n",
       "      <td>令和6年(2024年)6月22-23日 \\tつくば市平沢地内</td>\n",
       "    </tr>\n",
       "  </tbody>\n",
       "</table>\n",
       "</div>"
      ],
      "text/plain": [
       "                              WKT   longitude   latitude     名前  \\\n",
       "0   POINT (140.118946 36.1044419)  140.118946  36.104442     柴崎   \n",
       "1  POINT (140.0707048 36.0105083)  140.070705  36.010508  みどりの東   \n",
       "2  POINT (140.1233394 36.0990598)  140.123339  36.099060    流星台   \n",
       "3   POINT (140.0726882 36.150161)  140.072688  36.150161     大穂   \n",
       "4  POINT (140.0136323 36.1471948)  140.013632  36.147195     吉沼   \n",
       "5  POINT (140.1086634 36.1828128)  140.108663  36.182813     平沢   \n",
       "\n",
       "                               説明  \n",
       "0      令和6年(2024年)5月9日 \\tつくば市柴崎地内  \n",
       "1   令和6年(2024年)5月9日 \\tつくば市みどりの東地内  \n",
       "2    令和6年(2024年)5月19日 \\tつくば市流星台地内  \n",
       "3      令和6年(2024年)6月3日 \\tつくば市大穂地内  \n",
       "4      令和6年(2024年)6月4日 \\tつくば市吉沼地内  \n",
       "5  令和6年(2024年)6月22-23日 \\tつくば市平沢地内  "
      ]
     },
     "execution_count": 36,
     "metadata": {},
     "output_type": "execute_result"
    }
   ],
   "source": [
    "df2"
   ]
  },
  {
   "cell_type": "code",
   "execution_count": 37,
   "id": "a4b1c00c-6c4f-4e63-b7a6-c57ade32f490",
   "metadata": {
    "scrolled": true
   },
   "outputs": [
    {
     "data": {
      "application/vnd.jupyter.widget-view+json": {
       "model_id": "d941348585ee4675b4f57907356a4b0d",
       "version_major": 2,
       "version_minor": 0
      },
      "text/plain": [
       "Map(bottom=754.0, center=[20, 0], controls=(ZoomControl(options=['position', 'zoom_in_text', 'zoom_in_title', …"
      ]
     },
     "execution_count": 37,
     "metadata": {},
     "output_type": "execute_result"
    }
   ],
   "source": [
    "Map.add_xy_data(in_csv2, x=\"longitude\", y=\"latitude\", layer_name=\"kyon\")\n",
    "Map"
   ]
  },
  {
   "cell_type": "code",
   "execution_count": 38,
   "id": "6182962d-7a10-4a3c-aeaa-5b11e715bf43",
   "metadata": {},
   "outputs": [],
   "source": [
    "Map.add_layer_control()"
   ]
  },
  {
   "cell_type": "code",
   "execution_count": 39,
   "id": "c81625bd-665a-4fa4-b97f-13d296fb5a7f",
   "metadata": {},
   "outputs": [
    {
     "data": {
      "application/vnd.jupyter.widget-view+json": {
       "model_id": "d941348585ee4675b4f57907356a4b0d",
       "version_major": 2,
       "version_minor": 0
      },
      "text/plain": [
       "Map(bottom=754.0, center=[20, 0], controls=(ZoomControl(options=['position', 'zoom_in_text', 'zoom_in_title', …"
      ]
     },
     "execution_count": 39,
     "metadata": {},
     "output_type": "execute_result"
    }
   ],
   "source": [
    "Map"
   ]
  },
  {
   "cell_type": "code",
   "execution_count": null,
   "id": "9a3bda02-10de-4fe8-ba4f-b86608b4a54f",
   "metadata": {},
   "outputs": [],
   "source": []
  },
  {
   "cell_type": "code",
   "execution_count": null,
   "id": "902ee54f-d6f0-4443-9615-6dfd45c04f6c",
   "metadata": {},
   "outputs": [],
   "source": []
  }
 ],
 "metadata": {
  "kernelspec": {
   "display_name": "Python 3 (ipykernel)",
   "language": "python",
   "name": "python3"
  },
  "language_info": {
   "codemirror_mode": {
    "name": "ipython",
    "version": 3
   },
   "file_extension": ".py",
   "mimetype": "text/x-python",
   "name": "python",
   "nbconvert_exporter": "python",
   "pygments_lexer": "ipython3",
   "version": "3.12.4"
  }
 },
 "nbformat": 4,
 "nbformat_minor": 5
}
