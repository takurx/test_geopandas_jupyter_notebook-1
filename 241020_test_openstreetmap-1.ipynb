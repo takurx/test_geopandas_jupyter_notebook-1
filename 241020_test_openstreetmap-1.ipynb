{
 "cells": [
  {
   "cell_type": "code",
   "execution_count": 7,
   "id": "d44eea00-fd12-497f-9f86-e1438560c11e",
   "metadata": {},
   "outputs": [
    {
     "data": {
      "text/plain": [
       "'\\n地図のWikipedia！OpenStreetMapのデータをPythonで簡単にダウンロードできるPyrosmとleafmapを使ってみよう！ #QiitaEngineerFesta2022 - Qiita\\nhttps://qiita.com/nokonoko_1203/items/823abd6920553ee5f457\\n'"
      ]
     },
     "execution_count": 7,
     "metadata": {},
     "output_type": "execute_result"
    }
   ],
   "source": [
    "\"\"\"\n",
    "地図のWikipedia！OpenStreetMapのデータをPythonで簡単にダウンロードできるPyrosmとleafmapを使ってみよう！ #QiitaEngineerFesta2022 - Qiita\n",
    "https://qiita.com/nokonoko_1203/items/823abd6920553ee5f457\n",
    "\"\"\""
   ]
  },
  {
   "cell_type": "code",
   "execution_count": 4,
   "id": "76d82fde-1c3e-4f2c-97d4-a712189de95a",
   "metadata": {},
   "outputs": [
    {
     "name": "stdout",
     "output_type": "stream",
     "text": [
      "Creating data folder...\n",
      "Downloading data from https://www.e-stat.go.jp/gis/statmap-search/data?dlserveyId=A002005212020&code=13&coordSys=1&format=shape&downloadType=5&datum=2000 (1 byte)\n",
      "\n",
      "file_sizes: 5.68MB [00:00, 6.65MB/s]                                            \n",
      "Extracting zip file...\n",
      "Successfully downloaded / unzipped to tokyo\n"
     ]
    },
    {
     "data": {
      "text/plain": [
       "'tokyo'"
      ]
     },
     "execution_count": 4,
     "metadata": {},
     "output_type": "execute_result"
    }
   ],
   "source": [
    "import download\n",
    "\n",
    "download.download(\n",
    "    \"https://www.e-stat.go.jp/gis/statmap-search/data?dlserveyId=A002005212020&code=13&coordSys=1&format=shape&downloadType=5&datum=2000\",\n",
    "    \"tokyo\",\n",
    "    kind=\"zip\",\n",
    "    replace=True,\n",
    ")"
   ]
  },
  {
   "cell_type": "code",
   "execution_count": 3,
   "id": "be392f59-f170-4709-8dd3-89580d4a5150",
   "metadata": {},
   "outputs": [
    {
     "data": {
      "text/plain": [
       "'\\n(base) chino@chino-Legion-5-15IAH7H:~/LoRaWorks_230822/test_geopandas_jupyter_notebook$ pip install download\\nCollecting download\\n  Downloading download-0.3.5-py3-none-any.whl.metadata (3.8 kB)\\nRequirement already satisfied: tqdm in /home/chino/anaconda3/lib/python3.12/site-packages (from download) (4.66.5)\\nRequirement already satisfied: six in /home/chino/anaconda3/lib/python3.12/site-packages (from download) (1.16.0)\\nRequirement already satisfied: requests in /home/chino/anaconda3/lib/python3.12/site-packages (from download) (2.32.3)\\nRequirement already satisfied: charset-normalizer<4,>=2 in /home/chino/anaconda3/lib/python3.12/site-packages (from requests->download) (3.3.2)\\nRequirement already satisfied: idna<4,>=2.5 in /home/chino/anaconda3/lib/python3.12/site-packages (from requests->download) (3.7)\\nRequirement already satisfied: urllib3<3,>=1.21.1 in /home/chino/anaconda3/lib/python3.12/site-packages (from requests->download) (2.2.3)\\nRequirement already satisfied: certifi>=2017.4.17 in /home/chino/anaconda3/lib/python3.12/site-packages (from requests->download) (2024.8.30)\\nDownloading download-0.3.5-py3-none-any.whl (8.8 kB)\\nInstalling collected packages: download\\nSuccessfully installed download-0.3.5\\n'"
      ]
     },
     "execution_count": 3,
     "metadata": {},
     "output_type": "execute_result"
    }
   ],
   "source": [
    "\"\"\"\n",
    "(base) chino@chino-Legion-5-15IAH7H:~/LoRaWorks_230822/test_geopandas_jupyter_notebook$ pip install download\n",
    "Collecting download\n",
    "  Downloading download-0.3.5-py3-none-any.whl.metadata (3.8 kB)\n",
    "Requirement already satisfied: tqdm in /home/chino/anaconda3/lib/python3.12/site-packages (from download) (4.66.5)\n",
    "Requirement already satisfied: six in /home/chino/anaconda3/lib/python3.12/site-packages (from download) (1.16.0)\n",
    "Requirement already satisfied: requests in /home/chino/anaconda3/lib/python3.12/site-packages (from download) (2.32.3)\n",
    "Requirement already satisfied: charset-normalizer<4,>=2 in /home/chino/anaconda3/lib/python3.12/site-packages (from requests->download) (3.3.2)\n",
    "Requirement already satisfied: idna<4,>=2.5 in /home/chino/anaconda3/lib/python3.12/site-packages (from requests->download) (3.7)\n",
    "Requirement already satisfied: urllib3<3,>=1.21.1 in /home/chino/anaconda3/lib/python3.12/site-packages (from requests->download) (2.2.3)\n",
    "Requirement already satisfied: certifi>=2017.4.17 in /home/chino/anaconda3/lib/python3.12/site-packages (from requests->download) (2024.8.30)\n",
    "Downloading download-0.3.5-py3-none-any.whl (8.8 kB)\n",
    "Installing collected packages: download\n",
    "Successfully installed download-0.3.5\n",
    "\"\"\""
   ]
  },
  {
   "cell_type": "code",
   "execution_count": 2,
   "id": "74fb8ec5-f670-4fc5-8b31-4d1a7f291036",
   "metadata": {},
   "outputs": [
    {
     "data": {
      "text/html": [
       "<div>\n",
       "<style scoped>\n",
       "    .dataframe tbody tr th:only-of-type {\n",
       "        vertical-align: middle;\n",
       "    }\n",
       "\n",
       "    .dataframe tbody tr th {\n",
       "        vertical-align: top;\n",
       "    }\n",
       "\n",
       "    .dataframe thead th {\n",
       "        text-align: right;\n",
       "    }\n",
       "</style>\n",
       "<table border=\"1\" class=\"dataframe\">\n",
       "  <thead>\n",
       "    <tr style=\"text-align: right;\">\n",
       "      <th></th>\n",
       "      <th>KEY_CODE</th>\n",
       "      <th>PREF</th>\n",
       "      <th>CITY</th>\n",
       "      <th>S_AREA</th>\n",
       "      <th>PREF_NAME</th>\n",
       "      <th>CITY_NAME</th>\n",
       "      <th>S_NAME</th>\n",
       "      <th>KIGO_E</th>\n",
       "      <th>HCODE</th>\n",
       "      <th>AREA</th>\n",
       "      <th>...</th>\n",
       "      <th>N_KEN</th>\n",
       "      <th>N_CITY</th>\n",
       "      <th>KIGO_I</th>\n",
       "      <th>KBSUM</th>\n",
       "      <th>JINKO</th>\n",
       "      <th>SETAI</th>\n",
       "      <th>X_CODE</th>\n",
       "      <th>Y_CODE</th>\n",
       "      <th>KCODE1</th>\n",
       "      <th>geometry</th>\n",
       "    </tr>\n",
       "  </thead>\n",
       "  <tbody>\n",
       "    <tr>\n",
       "      <th>1686</th>\n",
       "      <td>13113001001</td>\n",
       "      <td>13</td>\n",
       "      <td>113</td>\n",
       "      <td>001001</td>\n",
       "      <td>東京都</td>\n",
       "      <td>渋谷区</td>\n",
       "      <td>恵比寿一丁目</td>\n",
       "      <td>None</td>\n",
       "      <td>8101</td>\n",
       "      <td>152575.858</td>\n",
       "      <td>...</td>\n",
       "      <td>None</td>\n",
       "      <td>None</td>\n",
       "      <td>None</td>\n",
       "      <td>65</td>\n",
       "      <td>4497</td>\n",
       "      <td>3043</td>\n",
       "      <td>139.713784</td>\n",
       "      <td>35.647161</td>\n",
       "      <td>0010-01</td>\n",
       "      <td>POLYGON ((139.71457 35.64793, 139.71495 35.647...</td>\n",
       "    </tr>\n",
       "  </tbody>\n",
       "</table>\n",
       "<p>1 rows × 30 columns</p>\n",
       "</div>"
      ],
      "text/plain": [
       "         KEY_CODE PREF CITY  S_AREA PREF_NAME CITY_NAME  S_NAME KIGO_E  HCODE  \\\n",
       "1686  13113001001   13  113  001001       東京都       渋谷区  恵比寿一丁目   None   8101   \n",
       "\n",
       "            AREA  ...  N_KEN  N_CITY  KIGO_I KBSUM JINKO SETAI      X_CODE  \\\n",
       "1686  152575.858  ...   None    None    None    65  4497  3043  139.713784   \n",
       "\n",
       "         Y_CODE   KCODE1                                           geometry  \n",
       "1686  35.647161  0010-01  POLYGON ((139.71457 35.64793, 139.71495 35.647...  \n",
       "\n",
       "[1 rows x 30 columns]"
      ]
     },
     "execution_count": 2,
     "metadata": {},
     "output_type": "execute_result"
    }
   ],
   "source": [
    "import geopandas\n",
    "\n",
    "shp_path = \"./tokyo/r2ka13.shp\"\n",
    "gdf = geopandas.read_file(shp_path)\n",
    "\n",
    "ebisu_1 = gdf[gdf[\"S_NAME\"] == \"恵比寿一丁目\"]\n",
    "ebisu_1\n",
    "\n",
    "# \tKEY_CODE\tPREF\tCITY\tS_AREA\tPREF_NAME\tCITY_NAME\tS_NAME\tKIGO_E\tHCODE\tAREA\t...\tN_KEN\tN_CITY\tKIGO_I\tKBSUM\tJINKO\tSETAI\tX_CODE\tY_CODE\tKCODE1\tgeometry\n",
    "# 1686\t13113001001\t13\t113\t001001\t東京都\t渋谷区\t恵比寿一丁目\tNone\t8101\t152575.858\t...\tNone\tNone\tNone\t65\t4497\t3043\t139.713784\t35.647161\t0010-01\tPOLYGON ((139.71457 35.64793, 139.71495 35.647...\n",
    "# 1 rows × 30 columns"
   ]
  },
  {
   "cell_type": "code",
   "execution_count": 8,
   "id": "ed30b3fe-043f-4174-a83f-63a50b55c14d",
   "metadata": {},
   "outputs": [],
   "source": [
    "import geopandas"
   ]
  },
  {
   "cell_type": "code",
   "execution_count": 9,
   "id": "659e14ca-e4d1-43b1-acec-d186641836e2",
   "metadata": {},
   "outputs": [
    {
     "name": "stdout",
     "output_type": "stream",
     "text": [
      " 240929_test_geopanda-0.ipynb\n",
      " 240929_test_geopanda-1.ipynb\n",
      " 241014_test_tellus-1.ipynb\n",
      " 241014_test_tellus.ipynb\n",
      " 241020_test_openstreetmap-1.ipynb\n",
      " 241020_test_openstreetmap.ipynb\n",
      " kanto-latest.osm.pbf\n",
      " LICENSE\n",
      "\u001b[0m\u001b[01;35m'method_get_not_allowed_Screenshot from 2024-10-14 18-40-46.png'\u001b[0m\n",
      " README.md\n",
      " test_tellus-0.json\n",
      " test_tellus_draft-0-1.json\n",
      " test_tellus_draft-0.json\n",
      " test_tellus_draft-1.json\n",
      " \u001b[01;34mtokyo\u001b[0m/\n"
     ]
    }
   ],
   "source": [
    "ls"
   ]
  },
  {
   "cell_type": "code",
   "execution_count": 10,
   "id": "6afb190b-e6a0-4d0c-8352-42aa86370dd0",
   "metadata": {},
   "outputs": [
    {
     "name": "stdout",
     "output_type": "stream",
     "text": [
      "r2ka13.dbf  r2ka13.prj  r2ka13.shp  r2ka13.shx\n"
     ]
    }
   ],
   "source": [
    "ls ./tokyo"
   ]
  },
  {
   "cell_type": "code",
   "execution_count": 13,
   "id": "ed2a27ad-f6c2-422e-a837-0deb8278c88b",
   "metadata": {},
   "outputs": [
    {
     "ename": "IndentationError",
     "evalue": "unindent does not match any outer indentation level (<string>, line 16)",
     "output_type": "error",
     "traceback": [
      "\u001b[0;36m  File \u001b[0;32m<string>:16\u001b[0;36m\u001b[0m\n\u001b[0;31m    (...)\u001b[0m\n\u001b[0m         ^\u001b[0m\n\u001b[0;31mIndentationError\u001b[0m\u001b[0;31m:\u001b[0m unindent does not match any outer indentation level\n"
     ]
    }
   ],
   "source": [
    "\"\"\"\n",
    "---------------------------------------------------------------------------\n",
    "ImportError                               Traceback (most recent call last)\n",
    "Cell In[11], line 4\n",
    "      1 import geopandas\n",
    "      3 shp_path = \"./tokyo/r2ka13.shp\"\n",
    "----> 4 gdf = geopandas.read_file(shp_path)\n",
    "      6 ebisu_1 = gdf[gdf[\"S_NAME\"] == \"恵比寿一丁目\"]\n",
    "      7 ebisu_1\n",
    "\n",
    "File ~/anaconda3/lib/python3.12/site-packages/geopandas/io/file.py:271, in _read_file(filename, bbox, mask, rows, engine, **kwargs)\n",
    "    181 def _read_file(filename, bbox=None, mask=None, rows=None, engine=None, **kwargs):\n",
    "    182     \"\"\"\n",
    "    183     Returns a GeoDataFrame from a file or URL.\n",
    "    184 \n",
    "   (...)\n",
    "    269 \n",
    "    270     \"\"\"\n",
    "--> 271     engine = _check_engine(engine, \"'read_file' function\")\n",
    "    273     filename = _expand_user(filename)\n",
    "    275     from_bytes = False\n",
    "\n",
    "File ~/anaconda3/lib/python3.12/site-packages/geopandas/io/file.py:120, in _check_engine(engine, func)\n",
    "    118     _check_pyogrio(func)\n",
    "    119 elif engine is None:\n",
    "--> 120     raise ImportError(\n",
    "    121         f\"The {func} requires the 'pyogrio' or 'fiona' package, \"\n",
    "    122         \"but neither is installed or imports correctly.\"\n",
    "    123         f\"\\nImporting fiona resulted in: {fiona_import_error}\"\n",
    "    124         f\"\\nImporting pyogrio resulted in: {pyogrio_import_error}\"\n",
    "    125     )\n",
    "    127 return engine\n",
    "\n",
    "ImportError: The 'read_file' function requires the 'pyogrio' or 'fiona' package, but neither is installed or imports correctly.\n",
    "Importing fiona resulted in: libpoppler.so.126: cannot open shared object file: No such file or directory\n",
    "Importing pyogrio resulted in: No module named 'pyogrio'\n",
    "\"\"\""
   ]
  },
  {
   "cell_type": "code",
   "execution_count": 14,
   "id": "ffea2ed1-365c-465c-9c9c-8bae8c48feec",
   "metadata": {},
   "outputs": [
    {
     "data": {
      "text/plain": [
       "'\\n(base) chino@chino-Legion-5-15IAH7H:~/LoRaWorks_230822/test_geopandas_jupyter_notebook$ pip install pyogrio\\nCollecting pyogrio\\n  Downloading pyogrio-0.10.0-cp312-cp312-manylinux_2_28_x86_64.whl.metadata (5.5 kB)\\nRequirement already satisfied: certifi in /home/chino/anaconda3/lib/python3.12/site-packages (from pyogrio) (2024.8.30)\\nRequirement already satisfied: numpy in /home/chino/anaconda3/lib/python3.12/site-packages (from pyogrio) (1.26.4)\\nRequirement already satisfied: packaging in /home/chino/anaconda3/lib/python3.12/site-packages (from pyogrio) (24.1)\\nDownloading pyogrio-0.10.0-cp312-cp312-manylinux_2_28_x86_64.whl (24.0 MB)\\n   ━━━━━━━━━━━━━━━━━━━━━━━━━━━━━━━━━━━━━━━━ 24.0/24.0 MB 10.2 MB/s eta 0:00:00\\nInstalling collected packages: pyogrio\\nSuccessfully installed pyogrio-0.10.0\\n'"
      ]
     },
     "execution_count": 14,
     "metadata": {},
     "output_type": "execute_result"
    }
   ],
   "source": [
    "\"\"\"\n",
    "(base) chino@chino-Legion-5-15IAH7H:~/LoRaWorks_230822/test_geopandas_jupyter_notebook$ pip install pyogrio\n",
    "Collecting pyogrio\n",
    "  Downloading pyogrio-0.10.0-cp312-cp312-manylinux_2_28_x86_64.whl.metadata (5.5 kB)\n",
    "Requirement already satisfied: certifi in /home/chino/anaconda3/lib/python3.12/site-packages (from pyogrio) (2024.8.30)\n",
    "Requirement already satisfied: numpy in /home/chino/anaconda3/lib/python3.12/site-packages (from pyogrio) (1.26.4)\n",
    "Requirement already satisfied: packaging in /home/chino/anaconda3/lib/python3.12/site-packages (from pyogrio) (24.1)\n",
    "Downloading pyogrio-0.10.0-cp312-cp312-manylinux_2_28_x86_64.whl (24.0 MB)\n",
    "   ━━━━━━━━━━━━━━━━━━━━━━━━━━━━━━━━━━━━━━━━ 24.0/24.0 MB 10.2 MB/s eta 0:00:00\n",
    "Installing collected packages: pyogrio\n",
    "Successfully installed pyogrio-0.10.0\n",
    "\"\"\""
   ]
  },
  {
   "cell_type": "code",
   "execution_count": 3,
   "id": "0e859bc9-2ef5-4c3e-9b6b-b612d7bd1bcd",
   "metadata": {},
   "outputs": [
    {
     "ename": "KeyError",
     "evalue": "0",
     "output_type": "error",
     "traceback": [
      "\u001b[0;31m---------------------------------------------------------------------------\u001b[0m",
      "\u001b[0;31mKeyError\u001b[0m                                  Traceback (most recent call last)",
      "File \u001b[0;32m~/anaconda3/lib/python3.12/site-packages/pandas/core/indexes/base.py:3805\u001b[0m, in \u001b[0;36mIndex.get_loc\u001b[0;34m(self, key)\u001b[0m\n\u001b[1;32m   3804\u001b[0m \u001b[38;5;28;01mtry\u001b[39;00m:\n\u001b[0;32m-> 3805\u001b[0m     \u001b[38;5;28;01mreturn\u001b[39;00m \u001b[38;5;28mself\u001b[39m\u001b[38;5;241m.\u001b[39m_engine\u001b[38;5;241m.\u001b[39mget_loc(casted_key)\n\u001b[1;32m   3806\u001b[0m \u001b[38;5;28;01mexcept\u001b[39;00m \u001b[38;5;167;01mKeyError\u001b[39;00m \u001b[38;5;28;01mas\u001b[39;00m err:\n",
      "File \u001b[0;32mindex.pyx:167\u001b[0m, in \u001b[0;36mpandas._libs.index.IndexEngine.get_loc\u001b[0;34m()\u001b[0m\n",
      "File \u001b[0;32mindex.pyx:196\u001b[0m, in \u001b[0;36mpandas._libs.index.IndexEngine.get_loc\u001b[0;34m()\u001b[0m\n",
      "File \u001b[0;32mpandas/_libs/hashtable_class_helper.pxi:2606\u001b[0m, in \u001b[0;36mpandas._libs.hashtable.Int64HashTable.get_item\u001b[0;34m()\u001b[0m\n",
      "File \u001b[0;32mpandas/_libs/hashtable_class_helper.pxi:2630\u001b[0m, in \u001b[0;36mpandas._libs.hashtable.Int64HashTable.get_item\u001b[0;34m()\u001b[0m\n",
      "\u001b[0;31mKeyError\u001b[0m: 0",
      "\nThe above exception was the direct cause of the following exception:\n",
      "\u001b[0;31mKeyError\u001b[0m                                  Traceback (most recent call last)",
      "File \u001b[0;32m<timed exec>:18\u001b[0m\n",
      "File \u001b[0;32m~/anaconda3/lib/python3.12/site-packages/leafmap/leafmap.py:2882\u001b[0m, in \u001b[0;36mMap.add_gdf\u001b[0;34m(self, gdf, layer_name, style, hover_style, style_callback, fill_colors, info_mode, zoom_to_layer, encoding, **kwargs)\u001b[0m\n\u001b[1;32m   2879\u001b[0m     \u001b[38;5;28;01mexcept\u001b[39;00m:\n\u001b[1;32m   2880\u001b[0m         \u001b[38;5;28;01mpass\u001b[39;00m\n\u001b[0;32m-> 2882\u001b[0m \u001b[38;5;28mself\u001b[39m\u001b[38;5;241m.\u001b[39madd_geojson(\n\u001b[1;32m   2883\u001b[0m     gdf,\n\u001b[1;32m   2884\u001b[0m     layer_name,\n\u001b[1;32m   2885\u001b[0m     style,\n\u001b[1;32m   2886\u001b[0m     hover_style,\n\u001b[1;32m   2887\u001b[0m     style_callback,\n\u001b[1;32m   2888\u001b[0m     fill_colors,\n\u001b[1;32m   2889\u001b[0m     info_mode,\n\u001b[1;32m   2890\u001b[0m     zoom_to_layer,\n\u001b[1;32m   2891\u001b[0m     encoding,\n\u001b[1;32m   2892\u001b[0m     \u001b[38;5;241m*\u001b[39m\u001b[38;5;241m*\u001b[39mkwargs,\n\u001b[1;32m   2893\u001b[0m )\n",
      "File \u001b[0;32m~/anaconda3/lib/python3.12/site-packages/leafmap/leafmap.py:2658\u001b[0m, in \u001b[0;36mMap.add_geojson\u001b[0;34m(self, in_geojson, layer_name, style, hover_style, style_callback, fill_colors, info_mode, zoom_to_layer, encoding, **kwargs)\u001b[0m\n\u001b[1;32m   2655\u001b[0m     gdf \u001b[38;5;241m=\u001b[39m gdf\u001b[38;5;241m.\u001b[39mto_crs(\u001b[38;5;124m\"\u001b[39m\u001b[38;5;124mEPSG:4326\u001b[39m\u001b[38;5;124m\"\u001b[39m)\n\u001b[1;32m   2656\u001b[0m data \u001b[38;5;241m=\u001b[39m gdf\u001b[38;5;241m.\u001b[39m__geo_interface__\n\u001b[0;32m-> 2658\u001b[0m geom_type \u001b[38;5;241m=\u001b[39m gdf\u001b[38;5;241m.\u001b[39mgeom_type[\u001b[38;5;241m0\u001b[39m]\n\u001b[1;32m   2660\u001b[0m \u001b[38;5;28;01mif\u001b[39;00m style \u001b[38;5;129;01mis\u001b[39;00m \u001b[38;5;28;01mNone\u001b[39;00m \u001b[38;5;129;01mand\u001b[39;00m (style_callback \u001b[38;5;129;01mis\u001b[39;00m \u001b[38;5;28;01mNone\u001b[39;00m):\n\u001b[1;32m   2661\u001b[0m     style \u001b[38;5;241m=\u001b[39m {\n\u001b[1;32m   2662\u001b[0m         \u001b[38;5;66;03m# \"stroke\": True,\u001b[39;00m\n\u001b[1;32m   2663\u001b[0m         \u001b[38;5;124m\"\u001b[39m\u001b[38;5;124mcolor\u001b[39m\u001b[38;5;124m\"\u001b[39m: \u001b[38;5;124m\"\u001b[39m\u001b[38;5;124m#3388ff\u001b[39m\u001b[38;5;124m\"\u001b[39m,\n\u001b[0;32m   (...)\u001b[0m\n\u001b[1;32m   2670\u001b[0m         \u001b[38;5;66;03m# \"clickable\": True,\u001b[39;00m\n\u001b[1;32m   2671\u001b[0m     }\n",
      "File \u001b[0;32m~/anaconda3/lib/python3.12/site-packages/pandas/core/series.py:1121\u001b[0m, in \u001b[0;36mSeries.__getitem__\u001b[0;34m(self, key)\u001b[0m\n\u001b[1;32m   1118\u001b[0m     \u001b[38;5;28;01mreturn\u001b[39;00m \u001b[38;5;28mself\u001b[39m\u001b[38;5;241m.\u001b[39m_values[key]\n\u001b[1;32m   1120\u001b[0m \u001b[38;5;28;01melif\u001b[39;00m key_is_scalar:\n\u001b[0;32m-> 1121\u001b[0m     \u001b[38;5;28;01mreturn\u001b[39;00m \u001b[38;5;28mself\u001b[39m\u001b[38;5;241m.\u001b[39m_get_value(key)\n\u001b[1;32m   1123\u001b[0m \u001b[38;5;66;03m# Convert generator to list before going through hashable part\u001b[39;00m\n\u001b[1;32m   1124\u001b[0m \u001b[38;5;66;03m# (We will iterate through the generator there to check for slices)\u001b[39;00m\n\u001b[1;32m   1125\u001b[0m \u001b[38;5;28;01mif\u001b[39;00m is_iterator(key):\n",
      "File \u001b[0;32m~/anaconda3/lib/python3.12/site-packages/pandas/core/series.py:1237\u001b[0m, in \u001b[0;36mSeries._get_value\u001b[0;34m(self, label, takeable)\u001b[0m\n\u001b[1;32m   1234\u001b[0m     \u001b[38;5;28;01mreturn\u001b[39;00m \u001b[38;5;28mself\u001b[39m\u001b[38;5;241m.\u001b[39m_values[label]\n\u001b[1;32m   1236\u001b[0m \u001b[38;5;66;03m# Similar to Index.get_value, but we do not fall back to positional\u001b[39;00m\n\u001b[0;32m-> 1237\u001b[0m loc \u001b[38;5;241m=\u001b[39m \u001b[38;5;28mself\u001b[39m\u001b[38;5;241m.\u001b[39mindex\u001b[38;5;241m.\u001b[39mget_loc(label)\n\u001b[1;32m   1239\u001b[0m \u001b[38;5;28;01mif\u001b[39;00m is_integer(loc):\n\u001b[1;32m   1240\u001b[0m     \u001b[38;5;28;01mreturn\u001b[39;00m \u001b[38;5;28mself\u001b[39m\u001b[38;5;241m.\u001b[39m_values[loc]\n",
      "File \u001b[0;32m~/anaconda3/lib/python3.12/site-packages/pandas/core/indexes/base.py:3812\u001b[0m, in \u001b[0;36mIndex.get_loc\u001b[0;34m(self, key)\u001b[0m\n\u001b[1;32m   3807\u001b[0m     \u001b[38;5;28;01mif\u001b[39;00m \u001b[38;5;28misinstance\u001b[39m(casted_key, \u001b[38;5;28mslice\u001b[39m) \u001b[38;5;129;01mor\u001b[39;00m (\n\u001b[1;32m   3808\u001b[0m         \u001b[38;5;28misinstance\u001b[39m(casted_key, abc\u001b[38;5;241m.\u001b[39mIterable)\n\u001b[1;32m   3809\u001b[0m         \u001b[38;5;129;01mand\u001b[39;00m \u001b[38;5;28many\u001b[39m(\u001b[38;5;28misinstance\u001b[39m(x, \u001b[38;5;28mslice\u001b[39m) \u001b[38;5;28;01mfor\u001b[39;00m x \u001b[38;5;129;01min\u001b[39;00m casted_key)\n\u001b[1;32m   3810\u001b[0m     ):\n\u001b[1;32m   3811\u001b[0m         \u001b[38;5;28;01mraise\u001b[39;00m InvalidIndexError(key)\n\u001b[0;32m-> 3812\u001b[0m     \u001b[38;5;28;01mraise\u001b[39;00m \u001b[38;5;167;01mKeyError\u001b[39;00m(key) \u001b[38;5;28;01mfrom\u001b[39;00m \u001b[38;5;21;01merr\u001b[39;00m\n\u001b[1;32m   3813\u001b[0m \u001b[38;5;28;01mexcept\u001b[39;00m \u001b[38;5;167;01mTypeError\u001b[39;00m:\n\u001b[1;32m   3814\u001b[0m     \u001b[38;5;66;03m# If we have a listlike key, _check_indexing_error will raise\u001b[39;00m\n\u001b[1;32m   3815\u001b[0m     \u001b[38;5;66;03m#  InvalidIndexError. Otherwise we fall through and re-raise\u001b[39;00m\n\u001b[1;32m   3816\u001b[0m     \u001b[38;5;66;03m#  the TypeError.\u001b[39;00m\n\u001b[1;32m   3817\u001b[0m     \u001b[38;5;28mself\u001b[39m\u001b[38;5;241m.\u001b[39m_check_indexing_error(key)\n",
      "\u001b[0;31mKeyError\u001b[0m: 0"
     ]
    }
   ],
   "source": [
    "%%time\n",
    "import leafmap\n",
    "\n",
    "map = leafmap.Map(zoom=17)\n",
    "\n",
    "# 表示スタイルを定義\n",
    "style = {\n",
    "    \"stroke\": True,\n",
    "    \"color\": \"#0000ff\",\n",
    "    \"weight\": 2,\n",
    "    \"opacity\": 1,\n",
    "    \"fill\": True,\n",
    "    \"fillColor\": \"#0000ff\",\n",
    "    \"fillOpacity\": 0.1,\n",
    "}\n",
    "hover_style = {\"fillOpacity\": 0.7}\n",
    "\n",
    "# 恵比寿一丁目のポリゴンを表示してみる\n",
    "map.add_gdf(ebisu_1, style=style, hover_style=hover_style)\n",
    "map"
   ]
  },
  {
   "cell_type": "code",
   "execution_count": 4,
   "id": "f2b7ac17-7ced-4f49-9699-d515a84af65e",
   "metadata": {},
   "outputs": [
    {
     "data": {
      "text/plain": [
       "\"\\n---------------------------------------------------------------------------\\nModuleNotFoundError                       Traceback (most recent call last)\\nFile <timed exec>:1\\n\\nModuleNotFoundError: No module named 'leafmap'\\n\""
      ]
     },
     "execution_count": 4,
     "metadata": {},
     "output_type": "execute_result"
    }
   ],
   "source": [
    "\"\"\"\n",
    "---------------------------------------------------------------------------\n",
    "ModuleNotFoundError                       Traceback (most recent call last)\n",
    "File <timed exec>:1\n",
    "\n",
    "ModuleNotFoundError: No module named 'leafmap'\n",
    "\"\"\""
   ]
  },
  {
   "cell_type": "code",
   "execution_count": null,
   "id": "63bc92aa-64e3-4a97-a7b2-397e470da2c3",
   "metadata": {},
   "outputs": [],
   "source": [
    "\"\"\"\n",
    "(base) chino@chino-Legion-5-15IAH7H:~/LoRaWorks_230822/test_geopandas_jupyter_notebook$ pip install leafmap\n",
    "Collecting leafmap\n",
    "  Downloading leafmap-0.38.6-py2.py3-none-any.whl.metadata (16 kB)\n",
    "Collecting anywidget>=0.9.13 (from leafmap)\n",
    "  Downloading anywidget-0.9.13-py3-none-any.whl.metadata (7.2 kB)\n",
    "Collecting bqplot>=0.12.43 (from leafmap)\n",
    "  Downloading bqplot-0.12.43-py2.py3-none-any.whl.metadata (6.4 kB)\n",
    "Collecting colour>=0.1.5 (from leafmap)\n",
    "  Downloading colour-0.1.5-py2.py3-none-any.whl.metadata (18 kB)\n",
    "Requirement already satisfied: folium>=0.14.0 in /home/chino/anaconda3/lib/python3.12/site-packages (from leafmap) (0.14.0)\n",
    "Collecting gdown>=5.1.0 (from leafmap)\n",
    "  Downloading gdown-5.2.0-py3-none-any.whl.metadata (5.8 kB)\n",
    "Collecting geojson>=3.1.0 (from leafmap)\n",
    "  Downloading geojson-3.1.0-py3-none-any.whl.metadata (16 kB)\n",
    "Collecting ipyevents>=2.0.2 (from leafmap)\n",
    "  Downloading ipyevents-2.0.2-py3-none-any.whl.metadata (2.9 kB)\n",
    "Collecting ipyfilechooser>=0.6.0 (from leafmap)\n",
    "  Downloading ipyfilechooser-0.6.0-py3-none-any.whl.metadata (6.4 kB)\n",
    "Collecting ipyleaflet>=0.18.2 (from leafmap)\n",
    "  Downloading ipyleaflet-0.19.2-py3-none-any.whl.metadata (5.3 kB)\n",
    "Collecting ipyvuetify>=1.9.4 (from leafmap)\n",
    "  Downloading ipyvuetify-1.10.0-py2.py3-none-any.whl.metadata (7.5 kB)\n",
    "Requirement already satisfied: ipywidgets>=7.6.0 in /home/chino/anaconda3/lib/python3.12/site-packages (from leafmap) (7.8.1)\n",
    "Requirement already satisfied: matplotlib>=3.7.1 in /home/chino/anaconda3/lib/python3.12/site-packages (from leafmap) (3.9.2)\n",
    "Requirement already satisfied: numpy<3.0.0,>=1.25.0 in /home/chino/anaconda3/lib/python3.12/site-packages (from leafmap) (1.26.4)\n",
    "Requirement already satisfied: pandas>=2.0.3 in /home/chino/anaconda3/lib/python3.12/site-packages (from leafmap) (2.2.2)\n",
    "Requirement already satisfied: plotly>=5.15.0 in /home/chino/anaconda3/lib/python3.12/site-packages (from leafmap) (5.24.1)\n",
    "Collecting psutil>=5.9.5 (from leafmap)\n",
    "  Downloading psutil-6.1.0-cp36-abi3-manylinux_2_12_x86_64.manylinux2010_x86_64.manylinux_2_17_x86_64.manylinux2014_x86_64.whl.metadata (22 kB)\n",
    "Collecting pyshp>=2.3.1 (from leafmap)\n",
    "  Downloading pyshp-2.3.1-py2.py3-none-any.whl.metadata (55 kB)\n",
    "Collecting pystac-client>=0.8.2 (from leafmap)\n",
    "  Downloading pystac_client-0.8.4-py3-none-any.whl.metadata (5.1 kB)\n",
    "Collecting python-box>=7.2.0 (from leafmap)\n",
    "  Downloading python_box-7.2.0-cp312-cp312-manylinux_2_17_x86_64.manylinux2014_x86_64.whl.metadata (7.8 kB)\n",
    "Collecting scooby>=0.10.0 (from leafmap)\n",
    "  Downloading scooby-0.10.0-py3-none-any.whl.metadata (15 kB)\n",
    "Requirement already satisfied: setuptools>=70.0.0 in /home/chino/anaconda3/lib/python3.12/site-packages (from leafmap) (75.1.0)\n",
    "Collecting whiteboxgui>=2.3.0 (from leafmap)\n",
    "  Downloading whiteboxgui-2.3.0-py2.py3-none-any.whl.metadata (5.7 kB)\n",
    "Collecting xyzservices>=2024.6.0 (from leafmap)\n",
    "  Downloading xyzservices-2024.9.0-py3-none-any.whl.metadata (4.1 kB)\n",
    "Collecting duckdb>=0.10.3 (from leafmap)\n",
    "  Downloading duckdb-1.1.2-cp312-cp312-manylinux_2_17_x86_64.manylinux2014_x86_64.whl.metadata (762 bytes)\n",
    "Collecting psygnal>=0.8.1 (from anywidget>=0.9.13->leafmap)\n",
    "  Downloading psygnal-0.11.1-cp312-cp312-manylinux_2_17_x86_64.manylinux2014_x86_64.whl.metadata (7.2 kB)\n",
    "Requirement already satisfied: typing-extensions>=4.2.0 in /home/chino/anaconda3/lib/python3.12/site-packages (from anywidget>=0.9.13->leafmap) (4.11.0)\n",
    "Requirement already satisfied: traitlets>=4.3.0 in /home/chino/anaconda3/lib/python3.12/site-packages (from bqplot>=0.12.43->leafmap) (5.14.3)\n",
    "Collecting traittypes>=0.0.6 (from bqplot>=0.12.43->leafmap)\n",
    "  Downloading traittypes-0.2.1-py2.py3-none-any.whl.metadata (1.0 kB)\n",
    "Requirement already satisfied: branca>=0.6.0 in /home/chino/anaconda3/lib/python3.12/site-packages (from folium>=0.14.0->leafmap) (0.6.0)\n",
    "Requirement already satisfied: jinja2>=2.9 in /home/chino/anaconda3/lib/python3.12/site-packages (from folium>=0.14.0->leafmap) (3.1.4)\n",
    "Requirement already satisfied: requests in /home/chino/anaconda3/lib/python3.12/site-packages (from folium>=0.14.0->leafmap) (2.32.3)\n",
    "Requirement already satisfied: beautifulsoup4 in /home/chino/anaconda3/lib/python3.12/site-packages (from gdown>=5.1.0->leafmap) (4.12.3)\n",
    "Requirement already satisfied: filelock in /home/chino/anaconda3/lib/python3.12/site-packages (from gdown>=5.1.0->leafmap) (3.13.1)\n",
    "Requirement already satisfied: tqdm in /home/chino/anaconda3/lib/python3.12/site-packages (from gdown>=5.1.0->leafmap) (4.66.5)\n",
    "Collecting jupyter-leaflet<0.20,>=0.19 (from ipyleaflet>=0.18.2->leafmap)\n",
    "  Downloading jupyter_leaflet-0.19.2-py3-none-any.whl.metadata (2.4 kB)\n",
    "Collecting ipyvue<2,>=1.7 (from ipyvuetify>=1.9.4->leafmap)\n",
    "  Downloading ipyvue-1.11.1-py2.py3-none-any.whl.metadata (1.1 kB)\n",
    "Requirement already satisfied: comm>=0.1.3 in /home/chino/anaconda3/lib/python3.12/site-packages (from ipywidgets>=7.6.0->leafmap) (0.2.1)\n",
    "Requirement already satisfied: ipython-genutils~=0.2.0 in /home/chino/anaconda3/lib/python3.12/site-packages (from ipywidgets>=7.6.0->leafmap) (0.2.0)\n",
    "Requirement already satisfied: widgetsnbextension~=3.6.6 in /home/chino/anaconda3/lib/python3.12/site-packages (from ipywidgets>=7.6.0->leafmap) (3.6.6)\n",
    "Requirement already satisfied: ipython>=4.0.0 in /home/chino/anaconda3/lib/python3.12/site-packages (from ipywidgets>=7.6.0->leafmap) (8.27.0)\n",
    "Requirement already satisfied: jupyterlab-widgets<3,>=1.0.0 in /home/chino/anaconda3/lib/python3.12/site-packages (from ipywidgets>=7.6.0->leafmap) (1.0.0)\n",
    "Requirement already satisfied: contourpy>=1.0.1 in /home/chino/anaconda3/lib/python3.12/site-packages (from matplotlib>=3.7.1->leafmap) (1.2.0)\n",
    "Requirement already satisfied: cycler>=0.10 in /home/chino/anaconda3/lib/python3.12/site-packages (from matplotlib>=3.7.1->leafmap) (0.11.0)\n",
    "Requirement already satisfied: fonttools>=4.22.0 in /home/chino/anaconda3/lib/python3.12/site-packages (from matplotlib>=3.7.1->leafmap) (4.51.0)\n",
    "Requirement already satisfied: kiwisolver>=1.3.1 in /home/chino/anaconda3/lib/python3.12/site-packages (from matplotlib>=3.7.1->leafmap) (1.4.4)\n",
    "Requirement already satisfied: packaging>=20.0 in /home/chino/anaconda3/lib/python3.12/site-packages (from matplotlib>=3.7.1->leafmap) (24.1)\n",
    "Requirement already satisfied: pillow>=8 in /home/chino/anaconda3/lib/python3.12/site-packages (from matplotlib>=3.7.1->leafmap) (10.4.0)\n",
    "Requirement already satisfied: pyparsing>=2.3.1 in /home/chino/anaconda3/lib/python3.12/site-packages (from matplotlib>=3.7.1->leafmap) (3.1.2)\n",
    "Requirement already satisfied: python-dateutil>=2.7 in /home/chino/anaconda3/lib/python3.12/site-packages (from matplotlib>=3.7.1->leafmap) (2.9.0.post0)\n",
    "Requirement already satisfied: pytz>=2020.1 in /home/chino/anaconda3/lib/python3.12/site-packages (from pandas>=2.0.3->leafmap) (2024.1)\n",
    "Requirement already satisfied: tzdata>=2022.7 in /home/chino/anaconda3/lib/python3.12/site-packages (from pandas>=2.0.3->leafmap) (2023.3)\n",
    "Requirement already satisfied: tenacity>=6.2.0 in /home/chino/anaconda3/lib/python3.12/site-packages (from plotly>=5.15.0->leafmap) (8.2.3)\n",
    "Collecting pystac>=1.10.0 (from pystac[validation]>=1.10.0->pystac-client>=0.8.2->leafmap)\n",
    "  Downloading pystac-1.11.0-py3-none-any.whl.metadata (4.5 kB)\n",
    "Collecting ipytree (from whiteboxgui>=2.3.0->leafmap)\n",
    "  Downloading ipytree-0.2.2-py2.py3-none-any.whl.metadata (849 bytes)\n",
    "Collecting whitebox (from whiteboxgui>=2.3.0->leafmap)\n",
    "  Downloading whitebox-2.3.5-py2.py3-none-any.whl.metadata (10 kB)\n",
    "Requirement already satisfied: decorator in /home/chino/anaconda3/lib/python3.12/site-packages (from ipython>=4.0.0->ipywidgets>=7.6.0->leafmap) (5.1.1)\n",
    "Requirement already satisfied: jedi>=0.16 in /home/chino/anaconda3/lib/python3.12/site-packages (from ipython>=4.0.0->ipywidgets>=7.6.0->leafmap) (0.19.1)\n",
    "Requirement already satisfied: matplotlib-inline in /home/chino/anaconda3/lib/python3.12/site-packages (from ipython>=4.0.0->ipywidgets>=7.6.0->leafmap) (0.1.6)\n",
    "Requirement already satisfied: prompt-toolkit<3.1.0,>=3.0.41 in /home/chino/anaconda3/lib/python3.12/site-packages (from ipython>=4.0.0->ipywidgets>=7.6.0->leafmap) (3.0.43)\n",
    "Requirement already satisfied: pygments>=2.4.0 in /home/chino/anaconda3/lib/python3.12/site-packages (from ipython>=4.0.0->ipywidgets>=7.6.0->leafmap) (2.15.1)\n",
    "Requirement already satisfied: stack-data in /home/chino/anaconda3/lib/python3.12/site-packages (from ipython>=4.0.0->ipywidgets>=7.6.0->leafmap) (0.2.0)\n",
    "Requirement already satisfied: pexpect>4.3 in /home/chino/anaconda3/lib/python3.12/site-packages (from ipython>=4.0.0->ipywidgets>=7.6.0->leafmap) (4.8.0)\n",
    "Requirement already satisfied: MarkupSafe>=2.0 in /home/chino/anaconda3/lib/python3.12/site-packages (from jinja2>=2.9->folium>=0.14.0->leafmap) (2.1.3)\n",
    "Requirement already satisfied: jsonschema~=4.18 in /home/chino/anaconda3/lib/python3.12/site-packages (from pystac[validation]>=1.10.0->pystac-client>=0.8.2->leafmap) (4.23.0)\n",
    "Requirement already satisfied: six>=1.5 in /home/chino/anaconda3/lib/python3.12/site-packages (from python-dateutil>=2.7->matplotlib>=3.7.1->leafmap) (1.16.0)\n",
    "Requirement already satisfied: charset-normalizer<4,>=2 in /home/chino/anaconda3/lib/python3.12/site-packages (from requests->folium>=0.14.0->leafmap) (3.3.2)\n",
    "Requirement already satisfied: idna<4,>=2.5 in /home/chino/anaconda3/lib/python3.12/site-packages (from requests->folium>=0.14.0->leafmap) (3.7)\n",
    "Requirement already satisfied: urllib3<3,>=1.21.1 in /home/chino/anaconda3/lib/python3.12/site-packages (from requests->folium>=0.14.0->leafmap) (2.2.3)\n",
    "Requirement already satisfied: certifi>=2017.4.17 in /home/chino/anaconda3/lib/python3.12/site-packages (from requests->folium>=0.14.0->leafmap) (2024.8.30)\n",
    "Requirement already satisfied: notebook>=4.4.1 in /home/chino/anaconda3/lib/python3.12/site-packages (from widgetsnbextension~=3.6.6->ipywidgets>=7.6.0->leafmap) (7.2.2)\n",
    "Requirement already satisfied: soupsieve>1.2 in /home/chino/anaconda3/lib/python3.12/site-packages (from beautifulsoup4->gdown>=5.1.0->leafmap) (2.5)\n",
    "Requirement already satisfied: PySocks!=1.5.7,>=1.5.6 in /home/chino/anaconda3/lib/python3.12/site-packages (from requests[socks]->gdown>=5.1.0->leafmap) (1.7.1)\n",
    "Requirement already satisfied: Click>=6.0 in /home/chino/anaconda3/lib/python3.12/site-packages (from whitebox->whiteboxgui>=2.3.0->leafmap) (8.1.7)\n",
    "Requirement already satisfied: parso<0.9.0,>=0.8.3 in /home/chino/anaconda3/lib/python3.12/site-packages (from jedi>=0.16->ipython>=4.0.0->ipywidgets>=7.6.0->leafmap) (0.8.3)\n",
    "Requirement already satisfied: attrs>=22.2.0 in /home/chino/anaconda3/lib/python3.12/site-packages (from jsonschema~=4.18->pystac[validation]>=1.10.0->pystac-client>=0.8.2->leafmap) (24.2.0)\n",
    "Requirement already satisfied: jsonschema-specifications>=2023.03.6 in /home/chino/anaconda3/lib/python3.12/site-packages (from jsonschema~=4.18->pystac[validation]>=1.10.0->pystac-client>=0.8.2->leafmap) (2023.7.1)\n",
    "Requirement already satisfied: referencing>=0.28.4 in /home/chino/anaconda3/lib/python3.12/site-packages (from jsonschema~=4.18->pystac[validation]>=1.10.0->pystac-client>=0.8.2->leafmap) (0.30.2)\n",
    "Requirement already satisfied: rpds-py>=0.7.1 in /home/chino/anaconda3/lib/python3.12/site-packages (from jsonschema~=4.18->pystac[validation]>=1.10.0->pystac-client>=0.8.2->leafmap) (0.10.6)\n",
    "Requirement already satisfied: jupyter-server<3,>=2.4.0 in /home/chino/anaconda3/lib/python3.12/site-packages (from notebook>=4.4.1->widgetsnbextension~=3.6.6->ipywidgets>=7.6.0->leafmap) (2.14.1)\n",
    "Requirement already satisfied: jupyterlab-server<3,>=2.27.1 in /home/chino/anaconda3/lib/python3.12/site-packages (from notebook>=4.4.1->widgetsnbextension~=3.6.6->ipywidgets>=7.6.0->leafmap) (2.27.3)\n",
    "Requirement already satisfied: jupyterlab<4.3,>=4.2.0 in /home/chino/anaconda3/lib/python3.12/site-packages (from notebook>=4.4.1->widgetsnbextension~=3.6.6->ipywidgets>=7.6.0->leafmap) (4.2.5)\n",
    "Requirement already satisfied: notebook-shim<0.3,>=0.2 in /home/chino/anaconda3/lib/python3.12/site-packages (from notebook>=4.4.1->widgetsnbextension~=3.6.6->ipywidgets>=7.6.0->leafmap) (0.2.3)\n",
    "Requirement already satisfied: tornado>=6.2.0 in /home/chino/anaconda3/lib/python3.12/site-packages (from notebook>=4.4.1->widgetsnbextension~=3.6.6->ipywidgets>=7.6.0->leafmap) (6.4.1)\n",
    "Requirement already satisfied: ptyprocess>=0.5 in /home/chino/anaconda3/lib/python3.12/site-packages (from pexpect>4.3->ipython>=4.0.0->ipywidgets>=7.6.0->leafmap) (0.7.0)\n",
    "Requirement already satisfied: wcwidth in /home/chino/anaconda3/lib/python3.12/site-packages (from prompt-toolkit<3.1.0,>=3.0.41->ipython>=4.0.0->ipywidgets>=7.6.0->leafmap) (0.2.5)\n",
    "Requirement already satisfied: executing in /home/chino/anaconda3/lib/python3.12/site-packages (from stack-data->ipython>=4.0.0->ipywidgets>=7.6.0->leafmap) (0.8.3)\n",
    "Requirement already satisfied: asttokens in /home/chino/anaconda3/lib/python3.12/site-packages (from stack-data->ipython>=4.0.0->ipywidgets>=7.6.0->leafmap) (2.0.5)\n",
    "Requirement already satisfied: pure-eval in /home/chino/anaconda3/lib/python3.12/site-packages (from stack-data->ipython>=4.0.0->ipywidgets>=7.6.0->leafmap) (0.2.2)\n",
    "Requirement already satisfied: anyio>=3.1.0 in /home/chino/anaconda3/lib/python3.12/site-packages (from jupyter-server<3,>=2.4.0->notebook>=4.4.1->widgetsnbextension~=3.6.6->ipywidgets>=7.6.0->leafmap) (4.6.2)\n",
    "Requirement already satisfied: argon2-cffi>=21.1 in /home/chino/anaconda3/lib/python3.12/site-packages (from jupyter-server<3,>=2.4.0->notebook>=4.4.1->widgetsnbextension~=3.6.6->ipywidgets>=7.6.0->leafmap) (21.3.0)\n",
    "Requirement already satisfied: jupyter-client>=7.4.4 in /home/chino/anaconda3/lib/python3.12/site-packages (from jupyter-server<3,>=2.4.0->notebook>=4.4.1->widgetsnbextension~=3.6.6->ipywidgets>=7.6.0->leafmap) (8.6.0)\n",
    "Requirement already satisfied: jupyter-core!=5.0.*,>=4.12 in /home/chino/anaconda3/lib/python3.12/site-packages (from jupyter-server<3,>=2.4.0->notebook>=4.4.1->widgetsnbextension~=3.6.6->ipywidgets>=7.6.0->leafmap) (5.7.2)\n",
    "Requirement already satisfied: jupyter-events>=0.9.0 in /home/chino/anaconda3/lib/python3.12/site-packages (from jupyter-server<3,>=2.4.0->notebook>=4.4.1->widgetsnbextension~=3.6.6->ipywidgets>=7.6.0->leafmap) (0.10.0)\n",
    "Requirement already satisfied: jupyter-server-terminals>=0.4.4 in /home/chino/anaconda3/lib/python3.12/site-packages (from jupyter-server<3,>=2.4.0->notebook>=4.4.1->widgetsnbextension~=3.6.6->ipywidgets>=7.6.0->leafmap) (0.4.4)\n",
    "Requirement already satisfied: nbconvert>=6.4.4 in /home/chino/anaconda3/lib/python3.12/site-packages (from jupyter-server<3,>=2.4.0->notebook>=4.4.1->widgetsnbextension~=3.6.6->ipywidgets>=7.6.0->leafmap) (7.16.4)\n",
    "Requirement already satisfied: nbformat>=5.3.0 in /home/chino/anaconda3/lib/python3.12/site-packages (from jupyter-server<3,>=2.4.0->notebook>=4.4.1->widgetsnbextension~=3.6.6->ipywidgets>=7.6.0->leafmap) (5.10.4)\n",
    "Requirement already satisfied: overrides>=5.0 in /home/chino/anaconda3/lib/python3.12/site-packages (from jupyter-server<3,>=2.4.0->notebook>=4.4.1->widgetsnbextension~=3.6.6->ipywidgets>=7.6.0->leafmap) (7.4.0)\n",
    "Requirement already satisfied: prometheus-client>=0.9 in /home/chino/anaconda3/lib/python3.12/site-packages (from jupyter-server<3,>=2.4.0->notebook>=4.4.1->widgetsnbextension~=3.6.6->ipywidgets>=7.6.0->leafmap) (0.14.1)\n",
    "Requirement already satisfied: pyzmq>=24 in /home/chino/anaconda3/lib/python3.12/site-packages (from jupyter-server<3,>=2.4.0->notebook>=4.4.1->widgetsnbextension~=3.6.6->ipywidgets>=7.6.0->leafmap) (25.1.2)\n",
    "Requirement already satisfied: send2trash>=1.8.2 in /home/chino/anaconda3/lib/python3.12/site-packages (from jupyter-server<3,>=2.4.0->notebook>=4.4.1->widgetsnbextension~=3.6.6->ipywidgets>=7.6.0->leafmap) (1.8.2)\n",
    "Requirement already satisfied: terminado>=0.8.3 in /home/chino/anaconda3/lib/python3.12/site-packages (from jupyter-server<3,>=2.4.0->notebook>=4.4.1->widgetsnbextension~=3.6.6->ipywidgets>=7.6.0->leafmap) (0.17.1)\n",
    "Requirement already satisfied: websocket-client>=1.7 in /home/chino/anaconda3/lib/python3.12/site-packages (from jupyter-server<3,>=2.4.0->notebook>=4.4.1->widgetsnbextension~=3.6.6->ipywidgets>=7.6.0->leafmap) (1.8.0)\n",
    "Requirement already satisfied: async-lru>=1.0.0 in /home/chino/anaconda3/lib/python3.12/site-packages (from jupyterlab<4.3,>=4.2.0->notebook>=4.4.1->widgetsnbextension~=3.6.6->ipywidgets>=7.6.0->leafmap) (2.0.4)\n",
    "Requirement already satisfied: httpx>=0.25.0 in /home/chino/anaconda3/lib/python3.12/site-packages (from jupyterlab<4.3,>=4.2.0->notebook>=4.4.1->widgetsnbextension~=3.6.6->ipywidgets>=7.6.0->leafmap) (0.27.0)\n",
    "Requirement already satisfied: ipykernel>=6.5.0 in /home/chino/anaconda3/lib/python3.12/site-packages (from jupyterlab<4.3,>=4.2.0->notebook>=4.4.1->widgetsnbextension~=3.6.6->ipywidgets>=7.6.0->leafmap) (6.29.5)\n",
    "Requirement already satisfied: jupyter-lsp>=2.0.0 in /home/chino/anaconda3/lib/python3.12/site-packages (from jupyterlab<4.3,>=4.2.0->notebook>=4.4.1->widgetsnbextension~=3.6.6->ipywidgets>=7.6.0->leafmap) (2.2.0)\n",
    "Requirement already satisfied: babel>=2.10 in /home/chino/anaconda3/lib/python3.12/site-packages (from jupyterlab-server<3,>=2.27.1->notebook>=4.4.1->widgetsnbextension~=3.6.6->ipywidgets>=7.6.0->leafmap) (2.11.0)\n",
    "Requirement already satisfied: json5>=0.9.0 in /home/chino/anaconda3/lib/python3.12/site-packages (from jupyterlab-server<3,>=2.27.1->notebook>=4.4.1->widgetsnbextension~=3.6.6->ipywidgets>=7.6.0->leafmap) (0.9.6)\n",
    "Requirement already satisfied: sniffio>=1.1 in /home/chino/anaconda3/lib/python3.12/site-packages (from anyio>=3.1.0->jupyter-server<3,>=2.4.0->notebook>=4.4.1->widgetsnbextension~=3.6.6->ipywidgets>=7.6.0->leafmap) (1.3.0)\n",
    "Requirement already satisfied: argon2-cffi-bindings in /home/chino/anaconda3/lib/python3.12/site-packages (from argon2-cffi>=21.1->jupyter-server<3,>=2.4.0->notebook>=4.4.1->widgetsnbextension~=3.6.6->ipywidgets>=7.6.0->leafmap) (21.2.0)\n",
    "Requirement already satisfied: httpcore==1.* in /home/chino/anaconda3/lib/python3.12/site-packages (from httpx>=0.25.0->jupyterlab<4.3,>=4.2.0->notebook>=4.4.1->widgetsnbextension~=3.6.6->ipywidgets>=7.6.0->leafmap) (1.0.2)\n",
    "Requirement already satisfied: h11<0.15,>=0.13 in /home/chino/anaconda3/lib/python3.12/site-packages (from httpcore==1.*->httpx>=0.25.0->jupyterlab<4.3,>=4.2.0->notebook>=4.4.1->widgetsnbextension~=3.6.6->ipywidgets>=7.6.0->leafmap) (0.14.0)\n",
    "Requirement already satisfied: debugpy>=1.6.5 in /home/chino/anaconda3/lib/python3.12/site-packages (from ipykernel>=6.5.0->jupyterlab<4.3,>=4.2.0->notebook>=4.4.1->widgetsnbextension~=3.6.6->ipywidgets>=7.6.0->leafmap) (1.6.7)\n",
    "Requirement already satisfied: nest-asyncio in /home/chino/anaconda3/lib/python3.12/site-packages (from ipykernel>=6.5.0->jupyterlab<4.3,>=4.2.0->notebook>=4.4.1->widgetsnbextension~=3.6.6->ipywidgets>=7.6.0->leafmap) (1.6.0)\n",
    "Requirement already satisfied: platformdirs>=2.5 in /home/chino/anaconda3/lib/python3.12/site-packages (from jupyter-core!=5.0.*,>=4.12->jupyter-server<3,>=2.4.0->notebook>=4.4.1->widgetsnbextension~=3.6.6->ipywidgets>=7.6.0->leafmap) (3.10.0)\n",
    "Requirement already satisfied: python-json-logger>=2.0.4 in /home/chino/anaconda3/lib/python3.12/site-packages (from jupyter-events>=0.9.0->jupyter-server<3,>=2.4.0->notebook>=4.4.1->widgetsnbextension~=3.6.6->ipywidgets>=7.6.0->leafmap) (2.0.7)\n",
    "Requirement already satisfied: pyyaml>=5.3 in /home/chino/anaconda3/lib/python3.12/site-packages (from jupyter-events>=0.9.0->jupyter-server<3,>=2.4.0->notebook>=4.4.1->widgetsnbextension~=3.6.6->ipywidgets>=7.6.0->leafmap) (6.0.2)\n",
    "Requirement already satisfied: rfc3339-validator in /home/chino/anaconda3/lib/python3.12/site-packages (from jupyter-events>=0.9.0->jupyter-server<3,>=2.4.0->notebook>=4.4.1->widgetsnbextension~=3.6.6->ipywidgets>=7.6.0->leafmap) (0.1.4)\n",
    "Requirement already satisfied: rfc3986-validator>=0.1.1 in /home/chino/anaconda3/lib/python3.12/site-packages (from jupyter-events>=0.9.0->jupyter-server<3,>=2.4.0->notebook>=4.4.1->widgetsnbextension~=3.6.6->ipywidgets>=7.6.0->leafmap) (0.1.1)\n",
    "Requirement already satisfied: bleach!=5.0.0 in /home/chino/anaconda3/lib/python3.12/site-packages (from nbconvert>=6.4.4->jupyter-server<3,>=2.4.0->notebook>=4.4.1->widgetsnbextension~=3.6.6->ipywidgets>=7.6.0->leafmap) (4.1.0)\n",
    "Requirement already satisfied: defusedxml in /home/chino/anaconda3/lib/python3.12/site-packages (from nbconvert>=6.4.4->jupyter-server<3,>=2.4.0->notebook>=4.4.1->widgetsnbextension~=3.6.6->ipywidgets>=7.6.0->leafmap) (0.7.1)\n",
    "Requirement already satisfied: jupyterlab-pygments in /home/chino/anaconda3/lib/python3.12/site-packages (from nbconvert>=6.4.4->jupyter-server<3,>=2.4.0->notebook>=4.4.1->widgetsnbextension~=3.6.6->ipywidgets>=7.6.0->leafmap) (0.1.2)\n",
    "Requirement already satisfied: mistune<4,>=2.0.3 in /home/chino/anaconda3/lib/python3.12/site-packages (from nbconvert>=6.4.4->jupyter-server<3,>=2.4.0->notebook>=4.4.1->widgetsnbextension~=3.6.6->ipywidgets>=7.6.0->leafmap) (2.0.4)\n",
    "Requirement already satisfied: nbclient>=0.5.0 in /home/chino/anaconda3/lib/python3.12/site-packages (from nbconvert>=6.4.4->jupyter-server<3,>=2.4.0->notebook>=4.4.1->widgetsnbextension~=3.6.6->ipywidgets>=7.6.0->leafmap) (0.8.0)\n",
    "Requirement already satisfied: pandocfilters>=1.4.1 in /home/chino/anaconda3/lib/python3.12/site-packages (from nbconvert>=6.4.4->jupyter-server<3,>=2.4.0->notebook>=4.4.1->widgetsnbextension~=3.6.6->ipywidgets>=7.6.0->leafmap) (1.5.0)\n",
    "Requirement already satisfied: tinycss2 in /home/chino/anaconda3/lib/python3.12/site-packages (from nbconvert>=6.4.4->jupyter-server<3,>=2.4.0->notebook>=4.4.1->widgetsnbextension~=3.6.6->ipywidgets>=7.6.0->leafmap) (1.2.1)\n",
    "Requirement already satisfied: fastjsonschema>=2.15 in /home/chino/anaconda3/lib/python3.12/site-packages (from nbformat>=5.3.0->jupyter-server<3,>=2.4.0->notebook>=4.4.1->widgetsnbextension~=3.6.6->ipywidgets>=7.6.0->leafmap) (2.16.2)\n",
    "Requirement already satisfied: webencodings in /home/chino/anaconda3/lib/python3.12/site-packages (from bleach!=5.0.0->nbconvert>=6.4.4->jupyter-server<3,>=2.4.0->notebook>=4.4.1->widgetsnbextension~=3.6.6->ipywidgets>=7.6.0->leafmap) (0.5.1)\n",
    "Collecting fqdn (from jsonschema[format-nongpl]>=4.18.0->jupyter-events>=0.9.0->jupyter-server<3,>=2.4.0->notebook>=4.4.1->widgetsnbextension~=3.6.6->ipywidgets>=7.6.0->leafmap)\n",
    "  Downloading fqdn-1.5.1-py3-none-any.whl.metadata (1.4 kB)\n",
    "Collecting isoduration (from jsonschema[format-nongpl]>=4.18.0->jupyter-events>=0.9.0->jupyter-server<3,>=2.4.0->notebook>=4.4.1->widgetsnbextension~=3.6.6->ipywidgets>=7.6.0->leafmap)\n",
    "  Downloading isoduration-20.11.0-py3-none-any.whl.metadata (5.7 kB)\n",
    "Requirement already satisfied: jsonpointer>1.13 in /home/chino/anaconda3/lib/python3.12/site-packages (from jsonschema[format-nongpl]>=4.18.0->jupyter-events>=0.9.0->jupyter-server<3,>=2.4.0->notebook>=4.4.1->widgetsnbextension~=3.6.6->ipywidgets>=7.6.0->leafmap) (2.1)\n",
    "Collecting uri-template (from jsonschema[format-nongpl]>=4.18.0->jupyter-events>=0.9.0->jupyter-server<3,>=2.4.0->notebook>=4.4.1->widgetsnbextension~=3.6.6->ipywidgets>=7.6.0->leafmap)\n",
    "  Downloading uri_template-1.3.0-py3-none-any.whl.metadata (8.8 kB)\n",
    "Collecting webcolors>=24.6.0 (from jsonschema[format-nongpl]>=4.18.0->jupyter-events>=0.9.0->jupyter-server<3,>=2.4.0->notebook>=4.4.1->widgetsnbextension~=3.6.6->ipywidgets>=7.6.0->leafmap)\n",
    "  Downloading webcolors-24.8.0-py3-none-any.whl.metadata (2.6 kB)\n",
    "Requirement already satisfied: cffi>=1.0.1 in /home/chino/anaconda3/lib/python3.12/site-packages (from argon2-cffi-bindings->argon2-cffi>=21.1->jupyter-server<3,>=2.4.0->notebook>=4.4.1->widgetsnbextension~=3.6.6->ipywidgets>=7.6.0->leafmap) (1.17.1)\n",
    "Requirement already satisfied: pycparser in /home/chino/anaconda3/lib/python3.12/site-packages (from cffi>=1.0.1->argon2-cffi-bindings->argon2-cffi>=21.1->jupyter-server<3,>=2.4.0->notebook>=4.4.1->widgetsnbextension~=3.6.6->ipywidgets>=7.6.0->leafmap) (2.21)\n",
    "Requirement already satisfied: arrow>=0.15.0 in /home/chino/anaconda3/lib/python3.12/site-packages (from isoduration->jsonschema[format-nongpl]>=4.18.0->jupyter-events>=0.9.0->jupyter-server<3,>=2.4.0->notebook>=4.4.1->widgetsnbextension~=3.6.6->ipywidgets>=7.6.0->leafmap) (1.3.0)\n",
    "Downloading leafmap-0.38.6-py2.py3-none-any.whl (488 kB)\n",
    "Downloading anywidget-0.9.13-py3-none-any.whl (213 kB)\n",
    "Downloading bqplot-0.12.43-py2.py3-none-any.whl (1.2 MB)\n",
    "   ━━━━━━━━━━━━━━━━━━━━━━━━━━━━━━━━━━━━━━━━ 1.2/1.2 MB 7.3 MB/s eta 0:00:00\n",
    "Downloading colour-0.1.5-py2.py3-none-any.whl (23 kB)\n",
    "Downloading duckdb-1.1.2-cp312-cp312-manylinux_2_17_x86_64.manylinux2014_x86_64.whl (20.1 MB)\n",
    "   ━━━━━━━━━━━━━━━━━━━━━━━━━━━━━━━━━━━━━━━━ 20.1/20.1 MB 4.3 MB/s eta 0:00:00\n",
    "Downloading gdown-5.2.0-py3-none-any.whl (18 kB)\n",
    "Downloading geojson-3.1.0-py3-none-any.whl (15 kB)\n",
    "Downloading ipyevents-2.0.2-py3-none-any.whl (101 kB)\n",
    "Downloading ipyfilechooser-0.6.0-py3-none-any.whl (11 kB)\n",
    "Downloading ipyleaflet-0.19.2-py3-none-any.whl (31 kB)\n",
    "Downloading ipyvuetify-1.10.0-py2.py3-none-any.whl (6.1 MB)\n",
    "   ━━━━━━━━━━━━━━━━━━━━━━━━━━━━━━━━━━━━━━━━ 6.1/6.1 MB 6.3 MB/s eta 0:00:00\n",
    "Downloading psutil-6.1.0-cp36-abi3-manylinux_2_12_x86_64.manylinux2010_x86_64.manylinux_2_17_x86_64.manylinux2014_x86_64.whl (287 kB)\n",
    "Downloading pyshp-2.3.1-py2.py3-none-any.whl (46 kB)\n",
    "Downloading pystac_client-0.8.4-py3-none-any.whl (41 kB)\n",
    "Downloading python_box-7.2.0-cp312-cp312-manylinux_2_17_x86_64.manylinux2014_x86_64.whl (4.2 MB)\n",
    "   ━━━━━━━━━━━━━━━━━━━━━━━━━━━━━━━━━━━━━━━━ 4.2/4.2 MB 3.8 MB/s eta 0:00:00\n",
    "Downloading scooby-0.10.0-py3-none-any.whl (18 kB)\n",
    "Downloading whiteboxgui-2.3.0-py2.py3-none-any.whl (108 kB)\n",
    "Downloading xyzservices-2024.9.0-py3-none-any.whl (85 kB)\n",
    "Downloading ipyvue-1.11.1-py2.py3-none-any.whl (2.7 MB)\n",
    "   ━━━━━━━━━━━━━━━━━━━━━━━━━━━━━━━━━━━━━━━━ 2.7/2.7 MB 5.3 MB/s eta 0:00:00\n",
    "Downloading jupyter_leaflet-0.19.2-py3-none-any.whl (1.1 MB)\n",
    "   ━━━━━━━━━━━━━━━━━━━━━━━━━━━━━━━━━━━━━━━━ 1.1/1.1 MB 6.6 MB/s eta 0:00:00\n",
    "Downloading psygnal-0.11.1-cp312-cp312-manylinux_2_17_x86_64.manylinux2014_x86_64.whl (743 kB)\n",
    "   ━━━━━━━━━━━━━━━━━━━━━━━━━━━━━━━━━━━━━━━━ 743.8/743.8 kB 5.1 MB/s eta 0:00:00\n",
    "Downloading pystac-1.11.0-py3-none-any.whl (183 kB)\n",
    "Downloading traittypes-0.2.1-py2.py3-none-any.whl (8.6 kB)\n",
    "Downloading ipytree-0.2.2-py2.py3-none-any.whl (1.3 MB)\n",
    "   ━━━━━━━━━━━━━━━━━━━━━━━━━━━━━━━━━━━━━━━━ 1.3/1.3 MB 5.7 MB/s eta 0:00:00\n",
    "Downloading whitebox-2.3.5-py2.py3-none-any.whl (72 kB)\n",
    "Downloading webcolors-24.8.0-py3-none-any.whl (15 kB)\n",
    "Downloading fqdn-1.5.1-py3-none-any.whl (9.1 kB)\n",
    "Downloading isoduration-20.11.0-py3-none-any.whl (11 kB)\n",
    "Downloading uri_template-1.3.0-py3-none-any.whl (11 kB)\n",
    "Installing collected packages: colour, xyzservices, whitebox, webcolors, uri-template, traittypes, scooby, python-box, pyshp, psygnal, psutil, jupyter-leaflet, geojson, fqdn, duckdb, pystac, isoduration, gdown, pystac-client, ipyvue, ipytree, ipyleaflet, ipyfilechooser, ipyevents, bqplot, anywidget, whiteboxgui, ipyvuetify, leafmap\n",
    "  Attempting uninstall: xyzservices\n",
    "    Found existing installation: xyzservices 2022.9.0\n",
    "    Uninstalling xyzservices-2022.9.0:\n",
    "      Successfully uninstalled xyzservices-2022.9.0\n",
    "  Attempting uninstall: psutil\n",
    "    Found existing installation: psutil 5.9.0\n",
    "    Uninstalling psutil-5.9.0:\n",
    "      Successfully uninstalled psutil-5.9.0\n",
    "Successfully installed anywidget-0.9.13 bqplot-0.12.43 colour-0.1.5 duckdb-1.1.2 fqdn-1.5.1 gdown-5.2.0 geojson-3.1.0 ipyevents-2.0.2 ipyfilechooser-0.6.0 ipyleaflet-0.19.2 ipytree-0.2.2 ipyvue-1.11.1 ipyvuetify-1.10.0 isoduration-20.11.0 jupyter-leaflet-0.19.2 leafmap-0.38.6 psutil-6.1.0 psygnal-0.11.1 pyshp-2.3.1 pystac-1.11.0 pystac-client-0.8.4 python-box-7.2.0 scooby-0.10.0 traittypes-0.2.1 uri-template-1.3.0 webcolors-24.8.0 whitebox-2.3.5 whiteboxgui-2.3.0 xyzservices-2024.9.0\n",
    "\n"
   ]
  }
 ],
 "metadata": {
  "kernelspec": {
   "display_name": "Python 3 (ipykernel)",
   "language": "python",
   "name": "python3"
  },
  "language_info": {
   "codemirror_mode": {
    "name": "ipython",
    "version": 3
   },
   "file_extension": ".py",
   "mimetype": "text/x-python",
   "name": "python",
   "nbconvert_exporter": "python",
   "pygments_lexer": "ipython3",
   "version": "3.12.4"
  }
 },
 "nbformat": 4,
 "nbformat_minor": 5
}
