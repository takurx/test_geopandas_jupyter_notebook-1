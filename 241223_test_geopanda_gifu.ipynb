{
 "cells": [
  {
   "cell_type": "code",
   "execution_count": 1,
   "id": "b4edef3f-18ca-4b62-b5cd-14a9a3fae065",
   "metadata": {},
   "outputs": [],
   "source": [
    "import os\n",
    "import leafmap.leafmap as leafmap"
   ]
  },
  {
   "cell_type": "code",
   "execution_count": 2,
   "id": "a0ca829c-ce57-4643-9121-42ed932fdc55",
   "metadata": {},
   "outputs": [],
   "source": [
    "in_csv = \"./gifu_cities.csv\""
   ]
  },
  {
   "cell_type": "code",
   "execution_count": 3,
   "id": "93948320-5918-40c9-bac4-5b9a7c891bf0",
   "metadata": {},
   "outputs": [],
   "source": [
    "df = leafmap.csv_to_df(in_csv)"
   ]
  },
  {
   "cell_type": "code",
   "execution_count": 4,
   "id": "f8db7e65-ee9c-4a0c-85bb-2e15f03c3394",
   "metadata": {},
   "outputs": [
    {
     "data": {
      "text/html": [
       "<div>\n",
       "<style scoped>\n",
       "    .dataframe tbody tr th:only-of-type {\n",
       "        vertical-align: middle;\n",
       "    }\n",
       "\n",
       "    .dataframe tbody tr th {\n",
       "        vertical-align: top;\n",
       "    }\n",
       "\n",
       "    .dataframe thead th {\n",
       "        text-align: right;\n",
       "    }\n",
       "</style>\n",
       "<table border=\"1\" class=\"dataframe\">\n",
       "  <thead>\n",
       "    <tr style=\"text-align: right;\">\n",
       "      <th></th>\n",
       "      <th>id</th>\n",
       "      <th>name</th>\n",
       "      <th>country</th>\n",
       "      <th>latitude</th>\n",
       "      <th>longitude</th>\n",
       "      <th>population</th>\n",
       "    </tr>\n",
       "  </thead>\n",
       "  <tbody>\n",
       "    <tr>\n",
       "      <th>0</th>\n",
       "      <td>1</td>\n",
       "      <td>Gifu</td>\n",
       "      <td>JPN</td>\n",
       "      <td>35.42309</td>\n",
       "      <td>136.76275</td>\n",
       "      <td>412895</td>\n",
       "    </tr>\n",
       "  </tbody>\n",
       "</table>\n",
       "</div>"
      ],
      "text/plain": [
       "   id  name country  latitude  longitude  population\n",
       "0   1  Gifu     JPN  35.42309  136.76275      412895"
      ]
     },
     "execution_count": 4,
     "metadata": {},
     "output_type": "execute_result"
    }
   ],
   "source": [
    "df"
   ]
  },
  {
   "cell_type": "code",
   "execution_count": 5,
   "id": "fe1565d9-9f30-45ce-86c1-5883c54cfb1f",
   "metadata": {},
   "outputs": [],
   "source": [
    "Map = leafmap.Map()"
   ]
  },
  {
   "cell_type": "code",
   "execution_count": 6,
   "id": "457a3bc9-b145-429c-95b5-139f31fe7117",
   "metadata": {},
   "outputs": [
    {
     "data": {
      "application/vnd.jupyter.widget-view+json": {
       "model_id": "e80d6768ad8c4f4097f7db387056709b",
       "version_major": 2,
       "version_minor": 0
      },
      "text/plain": [
       "Map(center=[20, 0], controls=(ZoomControl(options=['position', 'zoom_in_text', 'zoom_in_title', 'zoom_out_text…"
      ]
     },
     "execution_count": 6,
     "metadata": {},
     "output_type": "execute_result"
    }
   ],
   "source": [
    "Map.add_xy_data(in_csv, x=\"longitude\", y=\"latitude\", layer_name=\"Gifu\")\n",
    "Map"
   ]
  },
  {
   "cell_type": "code",
   "execution_count": 7,
   "id": "16d9f835-79cf-41d3-8239-12d87e386023",
   "metadata": {},
   "outputs": [],
   "source": [
    "out_dir = os.path.expanduser(\"./\")\n",
    "if not os.path.exists(out_dir):\n",
    "    os.makedirs(out_dir)\n",
    "out_shp = os.path.join(out_dir, \"gifu.shp\")"
   ]
  },
  {
   "cell_type": "code",
   "execution_count": 8,
   "id": "96bda8a0-8b36-454c-a4d8-a4b7131327b3",
   "metadata": {},
   "outputs": [],
   "source": [
    "leafmap.csv_to_shp(in_csv, out_shp)"
   ]
  },
  {
   "cell_type": "code",
   "execution_count": 9,
   "id": "036096dc-538a-45b2-9b3c-d9e6d0047112",
   "metadata": {},
   "outputs": [],
   "source": [
    "out_geojson = os.path.join(out_dir, \"gifu.geojson\")\n",
    "leafmap.csv_to_geojson(in_csv, out_geojson)"
   ]
  },
  {
   "cell_type": "code",
   "execution_count": null,
   "id": "13c4ba28-065e-4cf1-acc4-afc83e2a1e64",
   "metadata": {},
   "outputs": [],
   "source": []
  }
 ],
 "metadata": {
  "kernelspec": {
   "display_name": "Python 3 (ipykernel)",
   "language": "python",
   "name": "python3"
  },
  "language_info": {
   "codemirror_mode": {
    "name": "ipython",
    "version": 3
   },
   "file_extension": ".py",
   "mimetype": "text/x-python",
   "name": "python",
   "nbconvert_exporter": "python",
   "pygments_lexer": "ipython3",
   "version": "3.12.4"
  }
 },
 "nbformat": 4,
 "nbformat_minor": 5
}
