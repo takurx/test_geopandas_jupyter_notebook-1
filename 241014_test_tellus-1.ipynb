{
 "cells": [
  {
   "cell_type": "code",
   "execution_count": 1,
   "id": "100639bb-6f0b-4813-b2b4-e1cb63ed6cdf",
   "metadata": {},
   "outputs": [],
   "source": [
    "# 必要なライブラリをインポートします。\n",
    "import os\n",
    "import requests\n",
    "import json"
   ]
  },
  {
   "cell_type": "code",
   "execution_count": 2,
   "id": "9dd440b7-dfe5-4928-98e9-cdbd711f613b",
   "metadata": {},
   "outputs": [],
   "source": [
    "TOKEN = \"-------------------------------------\"\n",
    "DATA_SET = \"10402ffd-fb70-4625-9b46-63cec87cd5a9\" ##ASNARO-2のデータセットIDをセット\n",
    "\n",
    "#所定の場所のデータ検索をする関数\n",
    "# Specify dataset and search. Using /datasets/{dataset_id}/data-search/ API.\n",
    "def scene_search(dataset_id, intersects=None, query={}, sortby=None, paginate=None):\n",
    "    url = 'https://www.tellusxdp.com/api/traveler/v1/datasets/{}/data-search/'.format(dataset_id)\n",
    "    headers = {\n",
    "        \"Authorization\": \"Bearer \" + TOKEN,\n",
    "        'Content-Type': 'application/json'\n",
    "    }\n",
    "    payloads = {}\n",
    "    if intersects is not None:\n",
    "        payloads['intersects'] = intersects\n",
    "    if query is not None:\n",
    "        payloads['query'] = query\n",
    "    if isinstance(sortby, list):\n",
    "        payloads['sortby'] = sortby\n",
    "    if paginate is not None:\n",
    "        payloads['paginate'] = paginate\n",
    "    \n",
    "    r = requests.post(url, headers=headers, data=json.dumps(payloads))\n",
    "    print(r.status_code)\n",
    "    if r.status_code != 200:\n",
    "        print(r.content)\n",
    "        raise ValueError('status error({}).'.format(r.status_code))\n",
    "        \n",
    "    return r.json()\n",
    "\n"
   ]
  },
  {
   "cell_type": "code",
   "execution_count": 3,
   "id": "768c8cbe-f478-4f7c-949f-8714cce4b539",
   "metadata": {},
   "outputs": [
    {
     "name": "stdout",
     "output_type": "stream",
     "text": [
      "200\n",
      "{'type': 'FeatureCollection', 'features': [{'dataset_id': '10402ffd-fb70-4625-9b46-63cec87cd5a9', 'geometry': {'coordinates': [[[141.85921515024788, 42.69645878203438], [141.98184752828192, 42.7119268040681], [141.9608764018023, 42.80151114290716], [141.83806053574853, 42.78604096679968], [141.85921515024788, 42.69645878203438]]], 'type': 'Polygon'}, 'id': '7d47301d-9533-4be2-a010-31a86912e865', 'type': 'Feature', 'properties': {'sar:frequency_band': 'X', 'processing:level': 'L2.1', 'sat:relative_orbit': 126, 'start_datetime': '2020-09-05T08:12:58+00:00', 'end_datetime': '2020-09-05T08:13:00+00:00', 'tellus:name': 'AS201462808498-200905', 'created': '2021-12-13T14:25:18.087579+00:00', 'tellus:can_ordered': True, 'tellus:sat_frame': 8498, 'view:off_nadir': 36.184845, 'asnaro2:beam': '1', 'sar:observation_direction': 'right', 'sar:polarizations': 'HH', 'sar:instrument_mode': 'SP2', 'tellus:published_datetime': '2021-12-17T01:28:38.867529+00:00', 'sat:orbit_state': 'ascending', 'sar:product_type': 'SLC', 'gsd': 1.0, 'updated': '2024-02-01T14:55:38.684701+00:00'}}, {'dataset_id': '10402ffd-fb70-4625-9b46-63cec87cd5a9', 'geometry': {'coordinates': [[[141.8589167520601, 42.69686080735227], [141.98154593883282, 42.71231672781694], [141.96058768164986, 42.80190194745317], [141.8377749207214, 42.78644388338905], [141.8589167520601, 42.69686080735227]]], 'type': 'Polygon'}, 'id': '2c9ccde2-3a8c-4cd2-aac5-4f0c3b33a4a4', 'type': 'Feature', 'properties': {'sar:frequency_band': 'X', 'processing:level': 'L2.1', 'sat:relative_orbit': 126, 'start_datetime': '2018-09-08T08:09:47+00:00', 'end_datetime': '2018-09-08T08:09:48+00:00', 'tellus:name': 'AS200355208498-180908', 'created': '2021-12-13T13:22:17.325305+00:00', 'tellus:can_ordered': True, 'tellus:sat_frame': 8498, 'view:off_nadir': 36.1230469, 'asnaro2:beam': '1', 'sar:observation_direction': 'right', 'sar:polarizations': 'HH', 'sar:instrument_mode': 'SP2', 'tellus:published_datetime': '2021-12-17T01:28:25.863601+00:00', 'sat:orbit_state': 'ascending', 'sar:product_type': 'SLC', 'gsd': 1.0, 'updated': '2024-02-02T00:53:09.808217+00:00'}}], 'meta': {'total': 2, 'search-condition': {'intersects': {'type': 'Polygon', 'coordinates': [[[141.84938200356842, 42.75105653576509], [141.83924706503996, 42.71645449666897], [141.89461385885272, 42.69893933684679], [141.96255548380265, 42.72252158826697], [141.95711264644478, 42.761943222877846], [141.89968132811697, 42.76359672954325], [141.84938200356842, 42.75105653576509]]]}, 'query': {}, 'paginate': {'cursor': 'e7d3ce11-a5a3-437b-b383-7561ea5a67bc', 'size': 1000}}}}\n"
     ]
    }
   ],
   "source": [
    "# 検索条件を指定してデータを検索する関数（AOIを指定）\n",
    "\n",
    "def get_request():\n",
    "    ret = scene_search(\n",
    "        DATA_SET,\n",
    "        intersects={\n",
    "            'type':'Polygon','coordinates':[\n",
    "                [\n",
    "                    [141.84938200356842,42.75105653576509],\n",
    "                    [141.83924706503996,42.71645449666897],\n",
    "                    [141.89461385885272,42.69893933684679],\n",
    "                    [141.96255548380265,42.72252158826697],\n",
    "                    [141.95711264644478,42.761943222877846],\n",
    "                    [141.89968132811697,42.76359672954325],\n",
    "                    [141.84938200356842,42.75105653576509]\n",
    "                ]\n",
    "            ]\n",
    "        },\n",
    "    )\n",
    "    return ret\n",
    "\n",
    "print(get_request())\n",
    "\n"
   ]
  },
  {
   "cell_type": "code",
   "execution_count": 4,
   "id": "3c4679a4-88da-4128-ac10-d51309b37be7",
   "metadata": {},
   "outputs": [],
   "source": [
    "# 'id': '7d47301d-9533-4be2-a010-31a86912e865'\n",
    "# 'id': '2c9ccde2-3a8c-4cd2-aac5-4f0c3b33a4a4'\n",
    "\n",
    "# idが「7d47301d-9533-4be2-a010-31a86912e865」の2020-09-05に撮影されたデータと、\n",
    "# id「2c9ccde2-3a8c-4cd2-aac5-4f0c3b33a4a4」で2018-09-08に撮影されたデータを使用する。\n",
    "\n",
    "SCENE_ID1 = '7d47301d-9533-4be2-a010-31a86912e865'\n",
    "SCENE_ID2 = '2c9ccde2-3a8c-4cd2-aac5-4f0c3b33a4a4'"
   ]
  },
  {
   "cell_type": "code",
   "execution_count": 5,
   "id": "b18b0aa6-d3c7-48a1-b315-514531641c4e",
   "metadata": {},
   "outputs": [
    {
     "name": "stdout",
     "output_type": "stream",
     "text": [
      "{'results': [{'size_bytes': 894255, 'mime_type': 'image/jpeg', 'name': 'BRO-AS201462808498-200905___-SP2R1.1__A_.jpg', 'id': 1, 'status': 'uploaded', 'is_downloadable': True, 'require_archived_file_download': False}, {'size_bytes': 10178, 'mime_type': 'application/xml', 'name': 'MET-AS201462808498-200905___-SP2R1.1__A_.xml', 'id': 2, 'status': 'uploaded', 'is_downloadable': True, 'require_archived_file_download': False}, {'size_bytes': 5038506136, 'mime_type': 'image/tiff', 'name': 'SOR-IMG-HH-AS201462808498-200905___-SP2R1.1__A_.tif', 'id': 3, 'status': 'uploaded', 'is_downloadable': True, 'require_archived_file_download': False}, {'size_bytes': 658236500, 'mime_type': 'image/tiff', 'name': 'AS201462808498-200905_webcog.tif', 'id': 4, 'status': 'uploaded', 'is_downloadable': True, 'require_archived_file_download': False}, {'size_bytes': 455386, 'mime_type': 'application/pdf', 'name': 'EULA.pdf', 'id': 5, 'status': 'uploaded', 'is_downloadable': True, 'require_archived_file_download': False}, {'size_bytes': 1576, 'mime_type': 'application/octet-stream', 'name': 'POS-AS201462808498-200905___-SP2R1.1__A_.bin', 'id': 6, 'status': 'uploaded', 'is_downloadable': True, 'require_archived_file_download': False}, {'size_bytes': 1208, 'mime_type': 'application/octet-stream', 'name': 'ORB-AS201462808498-200905___-SP2R1.1__A_.bin', 'id': 7, 'status': 'uploaded', 'is_downloadable': True, 'require_archived_file_download': False}, {'size_bytes': 430376, 'mime_type': 'image/png', 'name': 'AS201462808498-200905_thumb.png', 'id': 8, 'status': 'uploaded', 'is_downloadable': True, 'require_archived_file_download': False}]}\n",
      "{'results': [{'size_bytes': 1576, 'mime_type': 'application/octet-stream', 'name': 'POS-AS200355208498-180908___-SP2R1.1__A_.bin', 'id': 1, 'status': 'uploaded', 'is_downloadable': True, 'require_archived_file_download': False}, {'size_bytes': 1208, 'mime_type': 'application/octet-stream', 'name': 'ORB-AS200355208498-180908___-SP2R1.1__A_.bin', 'id': 2, 'status': 'uploaded', 'is_downloadable': True, 'require_archived_file_download': False}, {'size_bytes': 643175320, 'mime_type': 'image/tiff', 'name': 'AS200355208498-180908_webcog.tif', 'id': 3, 'status': 'uploaded', 'is_downloadable': True, 'require_archived_file_download': False}, {'size_bytes': 431104, 'mime_type': 'image/png', 'name': 'AS200355208498-180908_thumb.png', 'id': 4, 'status': 'uploaded', 'is_downloadable': True, 'require_archived_file_download': False}, {'size_bytes': 10179, 'mime_type': 'application/xml', 'name': 'MET-AS200355208498-180908___-SP2R1.1__A_.xml', 'id': 5, 'status': 'uploaded', 'is_downloadable': True, 'require_archived_file_download': False}, {'size_bytes': 455386, 'mime_type': 'application/pdf', 'name': 'EULA.pdf', 'id': 6, 'status': 'uploaded', 'is_downloadable': True, 'require_archived_file_download': False}, {'size_bytes': 5038506136, 'mime_type': 'image/tiff', 'name': 'SOR-IMG-HH-AS200355208498-180908___-SP2R1.1__A_.tif', 'id': 7, 'status': 'uploaded', 'is_downloadable': True, 'require_archived_file_download': False}, {'size_bytes': 908556, 'mime_type': 'image/jpeg', 'name': 'BRO-AS200355208498-180908___-SP2R1.1__A_.jpg', 'id': 8, 'status': 'uploaded', 'is_downloadable': True, 'require_archived_file_download': False}]}\n"
     ]
    }
   ],
   "source": [
    "# ファイルID等を取得する関数\n",
    "def get_files_list(dataset_id, data_id):\n",
    "    url = 'https://www.tellusxdp.com/api/traveler/v1/datasets/{}/data/{}/files/'.format(dataset_id, data_id)\n",
    "    headers = {\n",
    "        \"Authorization\": \"Bearer \" + TOKEN,\n",
    "        'content-type': 'application/json'\n",
    "    }\n",
    "    \n",
    "    r = requests.get(url, headers=headers)\n",
    "    assert r.status_code == 200\n",
    "    return r.json()\n",
    "\n",
    "print(get_files_list(DATA_SET, SCENE_ID1))\n",
    "print(get_files_list(DATA_SET, SCENE_ID2))\n"
   ]
  },
  {
   "cell_type": "code",
   "execution_count": 6,
   "id": "2493e428-0d77-4180-87b6-5be70c124b5a",
   "metadata": {},
   "outputs": [],
   "source": [
    "# 上記関数で取得したファイルID\n",
    "FILE_ID1 = '4'\n",
    "FILE_ID2 = '3'\n"
   ]
  },
  {
   "cell_type": "code",
   "execution_count": 7,
   "id": "e9ed345d-9b88-40fa-b7e4-59a918f48e43",
   "metadata": {},
   "outputs": [
    {
     "name": "stdout",
     "output_type": "stream",
     "text": [
      "{'size_bytes': 658236500, 'mime_type': 'image/tiff', 'name': 'AS201462808498-200905_webcog.tif', 'id': 4, 'status': 'uploaded', 'is_downloadable': True, 'require_archived_file_download': False}\n",
      "{'size_bytes': 643175320, 'mime_type': 'image/tiff', 'name': 'AS200355208498-180908_webcog.tif', 'id': 3, 'status': 'uploaded', 'is_downloadable': True, 'require_archived_file_download': False}\n"
     ]
    }
   ],
   "source": [
    "# ファイルIDで指定したファイルのみの情報を抽出\n",
    "def get_file_info(dataset_id, data_id, file_id):\n",
    "    url = 'https://www.tellusxdp.com/api/traveler/v1/datasets/{}/data/{}/files/{}/'.format(dataset_id, data_id, file_id)\n",
    "    headers = {\n",
    "        \"Authorization\": \"Bearer \" + TOKEN,\n",
    "        'content-type': 'application/json'\n",
    "    }\n",
    "    \n",
    "    r = requests.get(url, headers=headers)\n",
    "    return r.json()\n",
    "\n",
    "FILE_INFO1 = get_file_info(DATA_SET, SCENE_ID1, FILE_ID1)\n",
    "FILE_INFO2 = get_file_info(DATA_SET, SCENE_ID2, FILE_ID2)\n",
    "\n",
    "print(FILE_INFO1)\n",
    "print(FILE_INFO2)\n"
   ]
  },
  {
   "cell_type": "code",
   "execution_count": 11,
   "id": "8b995c21-5a32-4870-bd69-bd6c0be9a9fb",
   "metadata": {
    "scrolled": true
   },
   "outputs": [
    {
     "name": "stdout",
     "output_type": "stream",
     "text": [
      "10402ffd-fb70-4625-9b46-63cec87cd5a9\n",
      "7d47301d-9533-4be2-a010-31a86912e865\n",
      "4\n",
      "https://www.tellusxdp.com/api/traveler/v1/datasets/10402ffd-fb70-4625-9b46-63cec87cd5a9/data/7d47301d-9533-4be2-a010-31a86912e865/files/4/download-url/\n"
     ]
    },
    {
     "ename": "AssertionError",
     "evalue": "",
     "output_type": "error",
     "traceback": [
      "\u001b[0;31m---------------------------------------------------------------------------\u001b[0m",
      "\u001b[0;31mAssertionError\u001b[0m                            Traceback (most recent call last)",
      "Cell \u001b[0;32mIn[11], line 17\u001b[0m\n\u001b[1;32m     14\u001b[0m     \u001b[38;5;28;01massert\u001b[39;00m r\u001b[38;5;241m.\u001b[39mstatus_code \u001b[38;5;241m==\u001b[39m \u001b[38;5;241m200\u001b[39m\n\u001b[1;32m     15\u001b[0m     \u001b[38;5;28;01mreturn\u001b[39;00m json\u001b[38;5;241m.\u001b[39mloads(r\u001b[38;5;241m.\u001b[39mcontent)\n\u001b[0;32m---> 17\u001b[0m DOWNLOAD_URL1 \u001b[38;5;241m=\u001b[39m get_download_url(DATA_SET, SCENE_ID1, FILE_ID1)\n\u001b[1;32m     18\u001b[0m DOWNLOAD_URL2 \u001b[38;5;241m=\u001b[39m get_download_url(DATA_SET, SCENE_ID2, FILE_ID2)\n\u001b[1;32m     20\u001b[0m \u001b[38;5;28mprint\u001b[39m(DOWNLOAD_URL1)\n",
      "Cell \u001b[0;32mIn[11], line 14\u001b[0m, in \u001b[0;36mget_download_url\u001b[0;34m(dataset_id, data_id, file_id)\u001b[0m\n\u001b[1;32m      8\u001b[0m headers \u001b[38;5;241m=\u001b[39m {\n\u001b[1;32m      9\u001b[0m     \u001b[38;5;124m\"\u001b[39m\u001b[38;5;124mAuthorization\u001b[39m\u001b[38;5;124m\"\u001b[39m: \u001b[38;5;124m\"\u001b[39m\u001b[38;5;124mBearer \u001b[39m\u001b[38;5;124m\"\u001b[39m \u001b[38;5;241m+\u001b[39m TOKEN,\n\u001b[1;32m     10\u001b[0m     \u001b[38;5;124m'\u001b[39m\u001b[38;5;124mContent-Type\u001b[39m\u001b[38;5;124m'\u001b[39m: \u001b[38;5;124m'\u001b[39m\u001b[38;5;124mapplication/json\u001b[39m\u001b[38;5;124m'\u001b[39m,\n\u001b[1;32m     11\u001b[0m }\n\u001b[1;32m     13\u001b[0m r \u001b[38;5;241m=\u001b[39m requests\u001b[38;5;241m.\u001b[39mpost(url, headers\u001b[38;5;241m=\u001b[39mheaders)\n\u001b[0;32m---> 14\u001b[0m \u001b[38;5;28;01massert\u001b[39;00m r\u001b[38;5;241m.\u001b[39mstatus_code \u001b[38;5;241m==\u001b[39m \u001b[38;5;241m200\u001b[39m\n\u001b[1;32m     15\u001b[0m \u001b[38;5;28;01mreturn\u001b[39;00m json\u001b[38;5;241m.\u001b[39mloads(r\u001b[38;5;241m.\u001b[39mcontent)\n",
      "\u001b[0;31mAssertionError\u001b[0m: "
     ]
    }
   ],
   "source": [
    "# Create download URL\n",
    "def get_download_url(dataset_id, data_id, file_id):\n",
    "    print(dataset_id)\n",
    "    print(data_id)\n",
    "    print(file_id)\n",
    "    url = 'https://www.tellusxdp.com/api/traveler/v1/datasets/{}/data/{}/files/{}/download-url/'.format(dataset_id, data_id, file_id)\n",
    "    print(url)\n",
    "    headers = {\n",
    "        \"Authorization\": \"Bearer \" + TOKEN,\n",
    "        'Content-Type': 'application/json',\n",
    "    }\n",
    "    \n",
    "    r = requests.post(url, headers=headers)\n",
    "    assert r.status_code == 200\n",
    "    return json.loads(r.content)\n",
    "\n",
    "DOWNLOAD_URL1 = get_download_url(DATA_SET, SCENE_ID1, FILE_ID1)\n",
    "DOWNLOAD_URL2 = get_download_url(DATA_SET, SCENE_ID2, FILE_ID2)\n",
    "\n",
    "print(DOWNLOAD_URL1)\n",
    "print(DOWNLOAD_URL2)\n"
   ]
  },
  {
   "cell_type": "code",
   "execution_count": 10,
   "id": "748da203-7055-4c55-847a-75bd04dc0e32",
   "metadata": {},
   "outputs": [
    {
     "ename": "NameError",
     "evalue": "name 'DOWNLOAD_URL1' is not defined",
     "output_type": "error",
     "traceback": [
      "\u001b[0;31m---------------------------------------------------------------------------\u001b[0m",
      "\u001b[0;31mNameError\u001b[0m                                 Traceback (most recent call last)",
      "Cell \u001b[0;32mIn[10], line 2\u001b[0m\n\u001b[1;32m      1\u001b[0m \u001b[38;5;66;03m#取得した情報から必要な情報を取り出す 1つ目の画像\u001b[39;00m\n\u001b[0;32m----> 2\u001b[0m URL1 \u001b[38;5;241m=\u001b[39m DOWNLOAD_URL1[\u001b[38;5;124m'\u001b[39m\u001b[38;5;124mdownload_url\u001b[39m\u001b[38;5;124m'\u001b[39m]\n\u001b[1;32m      3\u001b[0m FILE_NAME1 \u001b[38;5;241m=\u001b[39m FILE_INFO1[\u001b[38;5;124m'\u001b[39m\u001b[38;5;124mname\u001b[39m\u001b[38;5;124m'\u001b[39m]\n\u001b[1;32m      4\u001b[0m SIZE_BYTES1 \u001b[38;5;241m=\u001b[39m FILE_INFO1[\u001b[38;5;124m'\u001b[39m\u001b[38;5;124msize_bytes\u001b[39m\u001b[38;5;124m'\u001b[39m]\n",
      "\u001b[0;31mNameError\u001b[0m: name 'DOWNLOAD_URL1' is not defined"
     ]
    }
   ],
   "source": [
    "#取得した情報から必要な情報を取り出す 1つ目の画像\n",
    "URL1 = DOWNLOAD_URL1['download_url']\n",
    "FILE_NAME1 = FILE_INFO1['name']\n",
    "SIZE_BYTES1 = FILE_INFO1['size_bytes']\n",
    "\n",
    "print('File Name: ' + FILE_NAME1)\n",
    "print('File Size; ' + str(SIZE_BYTES1))\n",
    "\n",
    "#ファイルを作成して取得したファイル内容を書き出す。1つ目の画像\n",
    "response = requests.get(URL1)\n",
    "with open(FILE_NAME1, \"wb\") as f:\n",
    "    for chunk in response.iter_content(chunk_size=1024):\n",
    "        if chunk:\n",
    "            f.write(chunk)\n",
    "            f.flush()\n",
    "\n",
    "\n"
   ]
  },
  {
   "cell_type": "code",
   "execution_count": null,
   "id": "85e60fbc-5f3f-4efd-aa2c-6880aba7af99",
   "metadata": {},
   "outputs": [],
   "source": []
  }
 ],
 "metadata": {
  "kernelspec": {
   "display_name": "Python 3 (ipykernel)",
   "language": "python",
   "name": "python3"
  },
  "language_info": {
   "codemirror_mode": {
    "name": "ipython",
    "version": 3
   },
   "file_extension": ".py",
   "mimetype": "text/x-python",
   "name": "python",
   "nbconvert_exporter": "python",
   "pygments_lexer": "ipython3",
   "version": "3.12.4"
  }
 },
 "nbformat": 4,
 "nbformat_minor": 5
}
