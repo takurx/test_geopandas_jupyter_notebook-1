{
 "cells": [
  {
   "cell_type": "code",
   "execution_count": 1,
   "id": "64c3d135-e21f-430a-8081-5c3f8f36f0e1",
   "metadata": {},
   "outputs": [
    {
     "name": "stdout",
     "output_type": "stream",
     "text": [
      "Downloading data from https://www.e-stat.go.jp/gis/statmap-search/data?dlserveyId=A002005212020&code=13&coordSys=1&format=shape&downloadType=5&datum=2000 (5.4 MB)\n",
      "\n",
      "file_sizes: 100%|██████████████████████████| 5.68M/5.68M [00:00<00:00, 7.68MB/s]\n",
      "Extracting zip file...\n",
      "Successfully downloaded / unzipped to tokyo\n"
     ]
    },
    {
     "data": {
      "text/plain": [
       "'tokyo'"
      ]
     },
     "execution_count": 1,
     "metadata": {},
     "output_type": "execute_result"
    }
   ],
   "source": [
    "import download\n",
    "\n",
    "download.download(\n",
    "    \"https://www.e-stat.go.jp/gis/statmap-search/data?dlserveyId=A002005212020&code=13&coordSys=1&format=shape&downloadType=5&datum=2000\",\n",
    "    \"tokyo\",\n",
    "    kind=\"zip\",\n",
    "    replace=True,\n",
    ")"
   ]
  },
  {
   "cell_type": "code",
   "execution_count": 2,
   "id": "64c83c15-64fd-4ee0-9c22-323b9714d52a",
   "metadata": {},
   "outputs": [
    {
     "data": {
      "text/html": [
       "<div>\n",
       "<style scoped>\n",
       "    .dataframe tbody tr th:only-of-type {\n",
       "        vertical-align: middle;\n",
       "    }\n",
       "\n",
       "    .dataframe tbody tr th {\n",
       "        vertical-align: top;\n",
       "    }\n",
       "\n",
       "    .dataframe thead th {\n",
       "        text-align: right;\n",
       "    }\n",
       "</style>\n",
       "<table border=\"1\" class=\"dataframe\">\n",
       "  <thead>\n",
       "    <tr style=\"text-align: right;\">\n",
       "      <th></th>\n",
       "      <th>KEY_CODE</th>\n",
       "      <th>PREF</th>\n",
       "      <th>CITY</th>\n",
       "      <th>S_AREA</th>\n",
       "      <th>PREF_NAME</th>\n",
       "      <th>CITY_NAME</th>\n",
       "      <th>S_NAME</th>\n",
       "      <th>KIGO_E</th>\n",
       "      <th>HCODE</th>\n",
       "      <th>AREA</th>\n",
       "      <th>...</th>\n",
       "      <th>N_KEN</th>\n",
       "      <th>N_CITY</th>\n",
       "      <th>KIGO_I</th>\n",
       "      <th>KBSUM</th>\n",
       "      <th>JINKO</th>\n",
       "      <th>SETAI</th>\n",
       "      <th>X_CODE</th>\n",
       "      <th>Y_CODE</th>\n",
       "      <th>KCODE1</th>\n",
       "      <th>geometry</th>\n",
       "    </tr>\n",
       "  </thead>\n",
       "  <tbody>\n",
       "    <tr>\n",
       "      <th>1686</th>\n",
       "      <td>13113001001</td>\n",
       "      <td>13</td>\n",
       "      <td>113</td>\n",
       "      <td>001001</td>\n",
       "      <td>東京都</td>\n",
       "      <td>渋谷区</td>\n",
       "      <td>恵比寿一丁目</td>\n",
       "      <td>None</td>\n",
       "      <td>8101</td>\n",
       "      <td>152575.858</td>\n",
       "      <td>...</td>\n",
       "      <td>None</td>\n",
       "      <td>None</td>\n",
       "      <td>None</td>\n",
       "      <td>65</td>\n",
       "      <td>4497</td>\n",
       "      <td>3043</td>\n",
       "      <td>139.713784</td>\n",
       "      <td>35.647161</td>\n",
       "      <td>0010-01</td>\n",
       "      <td>POLYGON ((139.71457 35.64793, 139.71495 35.647...</td>\n",
       "    </tr>\n",
       "  </tbody>\n",
       "</table>\n",
       "<p>1 rows × 30 columns</p>\n",
       "</div>"
      ],
      "text/plain": [
       "         KEY_CODE PREF CITY  S_AREA PREF_NAME CITY_NAME  S_NAME KIGO_E  HCODE  \\\n",
       "1686  13113001001   13  113  001001       東京都       渋谷区  恵比寿一丁目   None   8101   \n",
       "\n",
       "            AREA  ...  N_KEN  N_CITY  KIGO_I KBSUM JINKO SETAI      X_CODE  \\\n",
       "1686  152575.858  ...   None    None    None    65  4497  3043  139.713784   \n",
       "\n",
       "         Y_CODE   KCODE1                                           geometry  \n",
       "1686  35.647161  0010-01  POLYGON ((139.71457 35.64793, 139.71495 35.647...  \n",
       "\n",
       "[1 rows x 30 columns]"
      ]
     },
     "execution_count": 2,
     "metadata": {},
     "output_type": "execute_result"
    }
   ],
   "source": [
    "import geopandas\n",
    "\n",
    "shp_path = \"./tokyo/r2ka13.shp\"\n",
    "gdf = geopandas.read_file(shp_path)\n",
    "\n",
    "ebisu_1 = gdf[gdf[\"S_NAME\"] == \"恵比寿一丁目\"]\n",
    "ebisu_1\n",
    "\n",
    "# \tKEY_CODE\tPREF\tCITY\tS_AREA\tPREF_NAME\tCITY_NAME\tS_NAME\tKIGO_E\tHCODE\tAREA\t...\tN_KEN\tN_CITY\tKIGO_I\tKBSUM\tJINKO\tSETAI\tX_CODE\tY_CODE\tKCODE1\tgeometry\n",
    "# 1686\t13113001001\t13\t113\t001001\t東京都\t渋谷区\t恵比寿一丁目\tNone\t8101\t152575.858\t...\tNone\tNone\tNone\t65\t4497\t3043\t139.713784\t35.647161\t0010-01\tPOLYGON ((139.71457 35.64793, 139.71495 35.647...\n",
    "# 1 rows × 30 columns\n"
   ]
  },
  {
   "cell_type": "code",
   "execution_count": 3,
   "id": "b22d8f4f-bf7c-4952-9b05-a64b9089e617",
   "metadata": {},
   "outputs": [
    {
     "data": {
      "text/plain": [
       "dict_keys(['africa', 'antarctica', 'asia', 'australia_oceania', 'central_america', 'europe', 'north_america', 'south_america', 'cities', 'subregions'])"
      ]
     },
     "execution_count": 3,
     "metadata": {},
     "output_type": "execute_result"
    }
   ],
   "source": [
    "from pyrosm.data import sources\n",
    "\n",
    "sources.available.keys()\n",
    "\n",
    "# dict_keys(['africa', 'antarctica', 'asia', 'australia_oceania', 'central_america', 'europe', 'north_america', 'south_america', 'cities', 'subregions'])\n"
   ]
  },
  {
   "cell_type": "code",
   "execution_count": 4,
   "id": "96429f3c-60cf-4b55-a8c8-8f2bd4d78e72",
   "metadata": {},
   "outputs": [
    {
     "ename": "KeyboardInterrupt",
     "evalue": "",
     "output_type": "error",
     "traceback": [
      "\u001b[0;31m---------------------------------------------------------------------------\u001b[0m",
      "\u001b[0;31mKeyboardInterrupt\u001b[0m                         Traceback (most recent call last)",
      "Cell \u001b[0;32mIn[4], line 5\u001b[0m\n\u001b[1;32m      1\u001b[0m \u001b[38;5;28;01mfrom\u001b[39;00m \u001b[38;5;21;01mpyrosm\u001b[39;00m \u001b[38;5;28;01mimport\u001b[39;00m OSM, get_data\n\u001b[1;32m      3\u001b[0m file_path \u001b[38;5;241m=\u001b[39m get_data(\u001b[38;5;124m\"\u001b[39m\u001b[38;5;124mkanto\u001b[39m\u001b[38;5;124m\"\u001b[39m, directory\u001b[38;5;241m=\u001b[39m\u001b[38;5;124m\"\u001b[39m\u001b[38;5;124m./\u001b[39m\u001b[38;5;124m\"\u001b[39m)\n\u001b[0;32m----> 5\u001b[0m file_path \u001b[38;5;241m=\u001b[39m get_data(\u001b[38;5;124m\"\u001b[39m\u001b[38;5;124mkanto\u001b[39m\u001b[38;5;124m\"\u001b[39m, update\u001b[38;5;241m=\u001b[39m\u001b[38;5;28;01mTrue\u001b[39;00m)\n",
      "File \u001b[0;32m~/anaconda3/lib/python3.12/site-packages/pyrosm/data/__init__.py:184\u001b[0m, in \u001b[0;36mget_data\u001b[0;34m(dataset, update, directory)\u001b[0m\n\u001b[1;32m    181\u001b[0m     \u001b[38;5;28;01mreturn\u001b[39;00m retrieve(_helsinki_test_history_pbf, update, directory)\n\u001b[1;32m    183\u001b[0m \u001b[38;5;28;01melif\u001b[39;00m dataset \u001b[38;5;129;01min\u001b[39;00m sources\u001b[38;5;241m.\u001b[39m_all_sources:\n\u001b[0;32m--> 184\u001b[0m     \u001b[38;5;28;01mreturn\u001b[39;00m retrieve(search_source(dataset), update, directory)\n\u001b[1;32m    186\u001b[0m \u001b[38;5;66;03m# Users might pass city names with spaces (e.g. Rio De Janeiro)\u001b[39;00m\n\u001b[1;32m    187\u001b[0m \u001b[38;5;28;01melif\u001b[39;00m dataset\u001b[38;5;241m.\u001b[39mreplace(\u001b[38;5;124m\"\u001b[39m\u001b[38;5;124m \u001b[39m\u001b[38;5;124m\"\u001b[39m, \u001b[38;5;124m\"\u001b[39m\u001b[38;5;124m\"\u001b[39m) \u001b[38;5;129;01min\u001b[39;00m sources\u001b[38;5;241m.\u001b[39m_all_sources:\n",
      "File \u001b[0;32m~/anaconda3/lib/python3.12/site-packages/pyrosm/data/__init__.py:127\u001b[0m, in \u001b[0;36mretrieve\u001b[0;34m(data, update, directory)\u001b[0m\n\u001b[1;32m    126\u001b[0m \u001b[38;5;28;01mdef\u001b[39;00m \u001b[38;5;21mretrieve\u001b[39m(data, update, directory):\n\u001b[0;32m--> 127\u001b[0m     \u001b[38;5;28;01mreturn\u001b[39;00m download(\n\u001b[1;32m    128\u001b[0m         url\u001b[38;5;241m=\u001b[39mdata[\u001b[38;5;124m\"\u001b[39m\u001b[38;5;124murl\u001b[39m\u001b[38;5;124m\"\u001b[39m], filename\u001b[38;5;241m=\u001b[39mdata[\u001b[38;5;124m\"\u001b[39m\u001b[38;5;124mname\u001b[39m\u001b[38;5;124m\"\u001b[39m], update\u001b[38;5;241m=\u001b[39mupdate, target_dir\u001b[38;5;241m=\u001b[39mdirectory\n\u001b[1;32m    129\u001b[0m     )\n",
      "File \u001b[0;32m~/anaconda3/lib/python3.12/site-packages/pyrosm/utils/download.py:55\u001b[0m, in \u001b[0;36mdownload\u001b[0;34m(url, filename, update, target_dir)\u001b[0m\n\u001b[1;32m     53\u001b[0m \u001b[38;5;28;01mif\u001b[39;00m update \u001b[38;5;129;01mor\u001b[39;00m file_exists \u001b[38;5;129;01mis\u001b[39;00m \u001b[38;5;28;01mFalse\u001b[39;00m:\n\u001b[1;32m     54\u001b[0m     \u001b[38;5;28;01mtry\u001b[39;00m:\n\u001b[0;32m---> 55\u001b[0m         filepath, msg \u001b[38;5;241m=\u001b[39m urllib\u001b[38;5;241m.\u001b[39mrequest\u001b[38;5;241m.\u001b[39murlretrieve(url, filepath)\n\u001b[1;32m     56\u001b[0m     \u001b[38;5;28;01mexcept\u001b[39;00m HTTPError:\n\u001b[1;32m     57\u001b[0m         \u001b[38;5;28;01mraise\u001b[39;00m \u001b[38;5;167;01mValueError\u001b[39;00m(\n\u001b[1;32m     58\u001b[0m             \u001b[38;5;124mf\u001b[39m\u001b[38;5;124m\"\u001b[39m\u001b[38;5;124mPBF-file \u001b[39m\u001b[38;5;124m'\u001b[39m\u001b[38;5;132;01m{\u001b[39;00murl\u001b[38;5;132;01m}\u001b[39;00m\u001b[38;5;124m'\u001b[39m\u001b[38;5;124m is temporarily unavailable. \u001b[39m\u001b[38;5;124m\"\u001b[39m \u001b[38;5;124mf\u001b[39m\u001b[38;5;124m\"\u001b[39m\u001b[38;5;124mTry again later.\u001b[39m\u001b[38;5;124m\"\u001b[39m\n\u001b[1;32m     59\u001b[0m         )\n",
      "File \u001b[0;32m~/anaconda3/lib/python3.12/urllib/request.py:268\u001b[0m, in \u001b[0;36murlretrieve\u001b[0;34m(url, filename, reporthook, data)\u001b[0m\n\u001b[1;32m    265\u001b[0m \u001b[38;5;28;01mif\u001b[39;00m reporthook:\n\u001b[1;32m    266\u001b[0m     reporthook(blocknum, bs, size)\n\u001b[0;32m--> 268\u001b[0m \u001b[38;5;28;01mwhile\u001b[39;00m block \u001b[38;5;241m:=\u001b[39m fp\u001b[38;5;241m.\u001b[39mread(bs):\n\u001b[1;32m    269\u001b[0m     read \u001b[38;5;241m+\u001b[39m\u001b[38;5;241m=\u001b[39m \u001b[38;5;28mlen\u001b[39m(block)\n\u001b[1;32m    270\u001b[0m     tfp\u001b[38;5;241m.\u001b[39mwrite(block)\n",
      "File \u001b[0;32m~/anaconda3/lib/python3.12/http/client.py:479\u001b[0m, in \u001b[0;36mHTTPResponse.read\u001b[0;34m(self, amt)\u001b[0m\n\u001b[1;32m    476\u001b[0m \u001b[38;5;28;01mif\u001b[39;00m \u001b[38;5;28mself\u001b[39m\u001b[38;5;241m.\u001b[39mlength \u001b[38;5;129;01mis\u001b[39;00m \u001b[38;5;129;01mnot\u001b[39;00m \u001b[38;5;28;01mNone\u001b[39;00m \u001b[38;5;129;01mand\u001b[39;00m amt \u001b[38;5;241m>\u001b[39m \u001b[38;5;28mself\u001b[39m\u001b[38;5;241m.\u001b[39mlength:\n\u001b[1;32m    477\u001b[0m     \u001b[38;5;66;03m# clip the read to the \"end of response\"\u001b[39;00m\n\u001b[1;32m    478\u001b[0m     amt \u001b[38;5;241m=\u001b[39m \u001b[38;5;28mself\u001b[39m\u001b[38;5;241m.\u001b[39mlength\n\u001b[0;32m--> 479\u001b[0m s \u001b[38;5;241m=\u001b[39m \u001b[38;5;28mself\u001b[39m\u001b[38;5;241m.\u001b[39mfp\u001b[38;5;241m.\u001b[39mread(amt)\n\u001b[1;32m    480\u001b[0m \u001b[38;5;28;01mif\u001b[39;00m \u001b[38;5;129;01mnot\u001b[39;00m s \u001b[38;5;129;01mand\u001b[39;00m amt:\n\u001b[1;32m    481\u001b[0m     \u001b[38;5;66;03m# Ideally, we would raise IncompleteRead if the content-length\u001b[39;00m\n\u001b[1;32m    482\u001b[0m     \u001b[38;5;66;03m# wasn't satisfied, but it might break compatibility.\u001b[39;00m\n\u001b[1;32m    483\u001b[0m     \u001b[38;5;28mself\u001b[39m\u001b[38;5;241m.\u001b[39m_close_conn()\n",
      "File \u001b[0;32m~/anaconda3/lib/python3.12/socket.py:708\u001b[0m, in \u001b[0;36mSocketIO.readinto\u001b[0;34m(self, b)\u001b[0m\n\u001b[1;32m    706\u001b[0m \u001b[38;5;28;01mwhile\u001b[39;00m \u001b[38;5;28;01mTrue\u001b[39;00m:\n\u001b[1;32m    707\u001b[0m     \u001b[38;5;28;01mtry\u001b[39;00m:\n\u001b[0;32m--> 708\u001b[0m         \u001b[38;5;28;01mreturn\u001b[39;00m \u001b[38;5;28mself\u001b[39m\u001b[38;5;241m.\u001b[39m_sock\u001b[38;5;241m.\u001b[39mrecv_into(b)\n\u001b[1;32m    709\u001b[0m     \u001b[38;5;28;01mexcept\u001b[39;00m timeout:\n\u001b[1;32m    710\u001b[0m         \u001b[38;5;28mself\u001b[39m\u001b[38;5;241m.\u001b[39m_timeout_occurred \u001b[38;5;241m=\u001b[39m \u001b[38;5;28;01mTrue\u001b[39;00m\n",
      "\u001b[0;31mKeyboardInterrupt\u001b[0m: "
     ]
    }
   ],
   "source": [
    "\"\"\"\n",
    "from pyrosm import OSM, get_data\n",
    "\n",
    "file_path = get_data(\"kanto\", directory=\"./\")\n",
    "\n",
    "file_path = get_data(\"kanto\", update=True)\n",
    "\"\"\""
   ]
  },
  {
   "cell_type": "code",
   "execution_count": null,
   "id": "f2c65d94-c484-4a2b-a4b0-c2109bd1b8d0",
   "metadata": {},
   "outputs": [],
   "source": [
    "\"\"\"\n",
    "osm = OSM(\"kanto-latest.osm.pbf\")\n",
    "\"\"\""
   ]
  },
  {
   "cell_type": "code",
   "execution_count": 10,
   "id": "24a72292-f57d-4916-8a12-6a979727235c",
   "metadata": {},
   "outputs": [
    {
     "ename": "KeyError",
     "evalue": "0",
     "output_type": "error",
     "traceback": [
      "\u001b[0;31m---------------------------------------------------------------------------\u001b[0m",
      "\u001b[0;31mKeyError\u001b[0m                                  Traceback (most recent call last)",
      "File \u001b[0;32m~/anaconda3/lib/python3.12/site-packages/pandas/core/indexes/base.py:3805\u001b[0m, in \u001b[0;36mIndex.get_loc\u001b[0;34m(self, key)\u001b[0m\n\u001b[1;32m   3804\u001b[0m \u001b[38;5;28;01mtry\u001b[39;00m:\n\u001b[0;32m-> 3805\u001b[0m     \u001b[38;5;28;01mreturn\u001b[39;00m \u001b[38;5;28mself\u001b[39m\u001b[38;5;241m.\u001b[39m_engine\u001b[38;5;241m.\u001b[39mget_loc(casted_key)\n\u001b[1;32m   3806\u001b[0m \u001b[38;5;28;01mexcept\u001b[39;00m \u001b[38;5;167;01mKeyError\u001b[39;00m \u001b[38;5;28;01mas\u001b[39;00m err:\n",
      "File \u001b[0;32mindex.pyx:167\u001b[0m, in \u001b[0;36mpandas._libs.index.IndexEngine.get_loc\u001b[0;34m()\u001b[0m\n",
      "File \u001b[0;32mindex.pyx:196\u001b[0m, in \u001b[0;36mpandas._libs.index.IndexEngine.get_loc\u001b[0;34m()\u001b[0m\n",
      "File \u001b[0;32mpandas/_libs/hashtable_class_helper.pxi:2606\u001b[0m, in \u001b[0;36mpandas._libs.hashtable.Int64HashTable.get_item\u001b[0;34m()\u001b[0m\n",
      "File \u001b[0;32mpandas/_libs/hashtable_class_helper.pxi:2630\u001b[0m, in \u001b[0;36mpandas._libs.hashtable.Int64HashTable.get_item\u001b[0;34m()\u001b[0m\n",
      "\u001b[0;31mKeyError\u001b[0m: 0",
      "\nThe above exception was the direct cause of the following exception:\n",
      "\u001b[0;31mKeyError\u001b[0m                                  Traceback (most recent call last)",
      "File \u001b[0;32m<timed exec>:18\u001b[0m\n",
      "File \u001b[0;32m~/anaconda3/lib/python3.12/site-packages/leafmap/leafmap.py:2882\u001b[0m, in \u001b[0;36mMap.add_gdf\u001b[0;34m(self, gdf, layer_name, style, hover_style, style_callback, fill_colors, info_mode, zoom_to_layer, encoding, **kwargs)\u001b[0m\n\u001b[1;32m   2879\u001b[0m     \u001b[38;5;28;01mexcept\u001b[39;00m:\n\u001b[1;32m   2880\u001b[0m         \u001b[38;5;28;01mpass\u001b[39;00m\n\u001b[0;32m-> 2882\u001b[0m \u001b[38;5;28mself\u001b[39m\u001b[38;5;241m.\u001b[39madd_geojson(\n\u001b[1;32m   2883\u001b[0m     gdf,\n\u001b[1;32m   2884\u001b[0m     layer_name,\n\u001b[1;32m   2885\u001b[0m     style,\n\u001b[1;32m   2886\u001b[0m     hover_style,\n\u001b[1;32m   2887\u001b[0m     style_callback,\n\u001b[1;32m   2888\u001b[0m     fill_colors,\n\u001b[1;32m   2889\u001b[0m     info_mode,\n\u001b[1;32m   2890\u001b[0m     zoom_to_layer,\n\u001b[1;32m   2891\u001b[0m     encoding,\n\u001b[1;32m   2892\u001b[0m     \u001b[38;5;241m*\u001b[39m\u001b[38;5;241m*\u001b[39mkwargs,\n\u001b[1;32m   2893\u001b[0m )\n",
      "File \u001b[0;32m~/anaconda3/lib/python3.12/site-packages/leafmap/leafmap.py:2658\u001b[0m, in \u001b[0;36mMap.add_geojson\u001b[0;34m(self, in_geojson, layer_name, style, hover_style, style_callback, fill_colors, info_mode, zoom_to_layer, encoding, **kwargs)\u001b[0m\n\u001b[1;32m   2655\u001b[0m     gdf \u001b[38;5;241m=\u001b[39m gdf\u001b[38;5;241m.\u001b[39mto_crs(\u001b[38;5;124m\"\u001b[39m\u001b[38;5;124mEPSG:4326\u001b[39m\u001b[38;5;124m\"\u001b[39m)\n\u001b[1;32m   2656\u001b[0m data \u001b[38;5;241m=\u001b[39m gdf\u001b[38;5;241m.\u001b[39m__geo_interface__\n\u001b[0;32m-> 2658\u001b[0m geom_type \u001b[38;5;241m=\u001b[39m gdf\u001b[38;5;241m.\u001b[39mgeom_type[\u001b[38;5;241m0\u001b[39m]\n\u001b[1;32m   2660\u001b[0m \u001b[38;5;28;01mif\u001b[39;00m style \u001b[38;5;129;01mis\u001b[39;00m \u001b[38;5;28;01mNone\u001b[39;00m \u001b[38;5;129;01mand\u001b[39;00m (style_callback \u001b[38;5;129;01mis\u001b[39;00m \u001b[38;5;28;01mNone\u001b[39;00m):\n\u001b[1;32m   2661\u001b[0m     style \u001b[38;5;241m=\u001b[39m {\n\u001b[1;32m   2662\u001b[0m         \u001b[38;5;66;03m# \"stroke\": True,\u001b[39;00m\n\u001b[1;32m   2663\u001b[0m         \u001b[38;5;124m\"\u001b[39m\u001b[38;5;124mcolor\u001b[39m\u001b[38;5;124m\"\u001b[39m: \u001b[38;5;124m\"\u001b[39m\u001b[38;5;124m#3388ff\u001b[39m\u001b[38;5;124m\"\u001b[39m,\n\u001b[0;32m   (...)\u001b[0m\n\u001b[1;32m   2670\u001b[0m         \u001b[38;5;66;03m# \"clickable\": True,\u001b[39;00m\n\u001b[1;32m   2671\u001b[0m     }\n",
      "File \u001b[0;32m~/anaconda3/lib/python3.12/site-packages/pandas/core/series.py:1121\u001b[0m, in \u001b[0;36mSeries.__getitem__\u001b[0;34m(self, key)\u001b[0m\n\u001b[1;32m   1118\u001b[0m     \u001b[38;5;28;01mreturn\u001b[39;00m \u001b[38;5;28mself\u001b[39m\u001b[38;5;241m.\u001b[39m_values[key]\n\u001b[1;32m   1120\u001b[0m \u001b[38;5;28;01melif\u001b[39;00m key_is_scalar:\n\u001b[0;32m-> 1121\u001b[0m     \u001b[38;5;28;01mreturn\u001b[39;00m \u001b[38;5;28mself\u001b[39m\u001b[38;5;241m.\u001b[39m_get_value(key)\n\u001b[1;32m   1123\u001b[0m \u001b[38;5;66;03m# Convert generator to list before going through hashable part\u001b[39;00m\n\u001b[1;32m   1124\u001b[0m \u001b[38;5;66;03m# (We will iterate through the generator there to check for slices)\u001b[39;00m\n\u001b[1;32m   1125\u001b[0m \u001b[38;5;28;01mif\u001b[39;00m is_iterator(key):\n",
      "File \u001b[0;32m~/anaconda3/lib/python3.12/site-packages/pandas/core/series.py:1237\u001b[0m, in \u001b[0;36mSeries._get_value\u001b[0;34m(self, label, takeable)\u001b[0m\n\u001b[1;32m   1234\u001b[0m     \u001b[38;5;28;01mreturn\u001b[39;00m \u001b[38;5;28mself\u001b[39m\u001b[38;5;241m.\u001b[39m_values[label]\n\u001b[1;32m   1236\u001b[0m \u001b[38;5;66;03m# Similar to Index.get_value, but we do not fall back to positional\u001b[39;00m\n\u001b[0;32m-> 1237\u001b[0m loc \u001b[38;5;241m=\u001b[39m \u001b[38;5;28mself\u001b[39m\u001b[38;5;241m.\u001b[39mindex\u001b[38;5;241m.\u001b[39mget_loc(label)\n\u001b[1;32m   1239\u001b[0m \u001b[38;5;28;01mif\u001b[39;00m is_integer(loc):\n\u001b[1;32m   1240\u001b[0m     \u001b[38;5;28;01mreturn\u001b[39;00m \u001b[38;5;28mself\u001b[39m\u001b[38;5;241m.\u001b[39m_values[loc]\n",
      "File \u001b[0;32m~/anaconda3/lib/python3.12/site-packages/pandas/core/indexes/base.py:3812\u001b[0m, in \u001b[0;36mIndex.get_loc\u001b[0;34m(self, key)\u001b[0m\n\u001b[1;32m   3807\u001b[0m     \u001b[38;5;28;01mif\u001b[39;00m \u001b[38;5;28misinstance\u001b[39m(casted_key, \u001b[38;5;28mslice\u001b[39m) \u001b[38;5;129;01mor\u001b[39;00m (\n\u001b[1;32m   3808\u001b[0m         \u001b[38;5;28misinstance\u001b[39m(casted_key, abc\u001b[38;5;241m.\u001b[39mIterable)\n\u001b[1;32m   3809\u001b[0m         \u001b[38;5;129;01mand\u001b[39;00m \u001b[38;5;28many\u001b[39m(\u001b[38;5;28misinstance\u001b[39m(x, \u001b[38;5;28mslice\u001b[39m) \u001b[38;5;28;01mfor\u001b[39;00m x \u001b[38;5;129;01min\u001b[39;00m casted_key)\n\u001b[1;32m   3810\u001b[0m     ):\n\u001b[1;32m   3811\u001b[0m         \u001b[38;5;28;01mraise\u001b[39;00m InvalidIndexError(key)\n\u001b[0;32m-> 3812\u001b[0m     \u001b[38;5;28;01mraise\u001b[39;00m \u001b[38;5;167;01mKeyError\u001b[39;00m(key) \u001b[38;5;28;01mfrom\u001b[39;00m \u001b[38;5;21;01merr\u001b[39;00m\n\u001b[1;32m   3813\u001b[0m \u001b[38;5;28;01mexcept\u001b[39;00m \u001b[38;5;167;01mTypeError\u001b[39;00m:\n\u001b[1;32m   3814\u001b[0m     \u001b[38;5;66;03m# If we have a listlike key, _check_indexing_error will raise\u001b[39;00m\n\u001b[1;32m   3815\u001b[0m     \u001b[38;5;66;03m#  InvalidIndexError. Otherwise we fall through and re-raise\u001b[39;00m\n\u001b[1;32m   3816\u001b[0m     \u001b[38;5;66;03m#  the TypeError.\u001b[39;00m\n\u001b[1;32m   3817\u001b[0m     \u001b[38;5;28mself\u001b[39m\u001b[38;5;241m.\u001b[39m_check_indexing_error(key)\n",
      "\u001b[0;31mKeyError\u001b[0m: 0"
     ]
    }
   ],
   "source": [
    "%%time\n",
    "import leafmap\n",
    "\n",
    "map = leafmap.Map(zoom=0)\n",
    "\n",
    "# 表示スタイルを定義\n",
    "style = {\n",
    "    \"stroke\": True,\n",
    "    \"color\": \"#3388ff\",\n",
    "    \"weight\": 2,\n",
    "    \"opacity\": 1,\n",
    "    \"fill\": True,\n",
    "    \"fillColor\": \"#3388ff\",\n",
    "    \"fillOpacity\": 0.1,\n",
    "}\n",
    "hover_style = {\"fillOpacity\": 0.7}\n",
    "\n",
    "# 恵比寿一丁目のポリゴンを表示してみる\n",
    "map.add_gdf(ebisu_1, style=style, hover_style=hover_style)\n",
    "map\n"
   ]
  },
  {
   "cell_type": "code",
   "execution_count": null,
   "id": "abd51d4c-8654-40cf-93fc-ffbdc719bbf5",
   "metadata": {},
   "outputs": [],
   "source": []
  },
  {
   "cell_type": "code",
   "execution_count": null,
   "id": "897b267c-0ba3-4d9c-a590-ea979835070c",
   "metadata": {},
   "outputs": [],
   "source": []
  }
 ],
 "metadata": {
  "kernelspec": {
   "display_name": "Python 3 (ipykernel)",
   "language": "python",
   "name": "python3"
  },
  "language_info": {
   "codemirror_mode": {
    "name": "ipython",
    "version": 3
   },
   "file_extension": ".py",
   "mimetype": "text/x-python",
   "name": "python",
   "nbconvert_exporter": "python",
   "pygments_lexer": "ipython3",
   "version": "3.12.4"
  }
 },
 "nbformat": 4,
 "nbformat_minor": 5
}
